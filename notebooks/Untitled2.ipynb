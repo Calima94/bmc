{
 "cells": [
  {
   "cell_type": "code",
   "execution_count": 1,
   "metadata": {},
   "outputs": [],
   "source": [
    "import numpy as np"
   ]
  },
  {
   "cell_type": "code",
   "execution_count": 66,
   "metadata": {},
   "outputs": [
    {
     "ename": "ValueError",
     "evalue": "setting an array element with a sequence.",
     "output_type": "error",
     "traceback": [
      "\u001b[0;31m---------------------------------------------------------------------------\u001b[0m",
      "\u001b[0;31mValueError\u001b[0m                                Traceback (most recent call last)",
      "\u001b[0;32m<ipython-input-66-0bf5eee7296d>\u001b[0m in \u001b[0;36m<module>\u001b[0;34m()\u001b[0m\n\u001b[1;32m     26\u001b[0m \u001b[0;34m\u001b[0m\u001b[0m\n\u001b[1;32m     27\u001b[0m \u001b[0;32mfor\u001b[0m \u001b[0mi\u001b[0m \u001b[0;32min\u001b[0m \u001b[0mrange\u001b[0m\u001b[0;34m(\u001b[0m\u001b[0mMUn\u001b[0m\u001b[0;34m)\u001b[0m\u001b[0;34m:\u001b[0m\u001b[0;34m\u001b[0m\u001b[0m\n\u001b[0;32m---> 28\u001b[0;31m     \u001b[0mA\u001b[0m \u001b[0;34m=\u001b[0m \u001b[0mnp\u001b[0m\u001b[0;34m.\u001b[0m\u001b[0marray\u001b[0m\u001b[0;34m(\u001b[0m\u001b[0;34m[\u001b[0m\u001b[0;34m[\u001b[0m\u001b[0;36m0\u001b[0m\u001b[0;34m,\u001b[0m\u001b[0;36m1\u001b[0m\u001b[0;34m]\u001b[0m\u001b[0;34m,\u001b[0m\u001b[0;34m[\u001b[0m\u001b[0;34m-\u001b[0m\u001b[0;36m1\u001b[0m\u001b[0;34m/\u001b[0m\u001b[0;34m(\u001b[0m\u001b[0mTp\u001b[0m\u001b[0;34m**\u001b[0m\u001b[0;36m2\u001b[0m\u001b[0;34m)\u001b[0m\u001b[0;34m,\u001b[0m \u001b[0;34m-\u001b[0m\u001b[0;36m2\u001b[0m\u001b[0;34m/\u001b[0m\u001b[0mTp\u001b[0m\u001b[0;34m]\u001b[0m\u001b[0;34m]\u001b[0m\u001b[0;34m)\u001b[0m\u001b[0;34m\u001b[0m\u001b[0m\n\u001b[0m\u001b[1;32m     29\u001b[0m     \u001b[0mB\u001b[0m \u001b[0;34m=\u001b[0m \u001b[0mnp\u001b[0m\u001b[0;34m.\u001b[0m\u001b[0marray\u001b[0m\u001b[0;34m(\u001b[0m\u001b[0;34m[\u001b[0m\u001b[0;34m[\u001b[0m\u001b[0;36m0\u001b[0m\u001b[0;34m]\u001b[0m\u001b[0;34m,\u001b[0m\u001b[0;34m[\u001b[0m\u001b[0mAm\u001b[0m\u001b[0;34m*\u001b[0m\u001b[0mnp\u001b[0m\u001b[0;34m.\u001b[0m\u001b[0mexp\u001b[0m\u001b[0;34m(\u001b[0m\u001b[0;36m1\u001b[0m\u001b[0;34m)\u001b[0m\u001b[0;34m/\u001b[0m\u001b[0mTp\u001b[0m\u001b[0;34m]\u001b[0m\u001b[0;34m]\u001b[0m\u001b[0;34m)\u001b[0m\u001b[0;34m\u001b[0m\u001b[0m\n\u001b[1;32m     30\u001b[0m \u001b[0;34m\u001b[0m\u001b[0m\n",
      "\u001b[0;31mValueError\u001b[0m: setting an array element with a sequence."
     ]
    }
   ],
   "source": [
    "MUn = 100\n",
    "\n",
    "\n",
    "\n",
    "Am = 1*np.exp(np.log(100)/100*np.arange(MUn))\n",
    "Tp = 0.3*np.exp(np.log(0.05/0.3)/100*np.arange(MUn))\n",
    "\n",
    "dt = 0.01\n",
    "\n",
    "t = np.arange(0,10,dt)\n",
    "\n",
    "\n",
    "deltaAmp = 1/dt\n",
    "\n",
    "force = np.zeros_like(t)\n",
    "\n",
    "\n",
    "\n",
    "ISI = 0.02+0.05*np.random.rand(1000)\n",
    "instants = np.cumsum(ISI)\n",
    "\n",
    "j = 0\n",
    "\n",
    "A = np.zeros((2*MUn, 2*MUn))\n",
    "B = np.zeros((2*MUn, 1))\n",
    "\n",
    "for i in range(MUn):\n",
    "    A = np.array([[0,1],[-1/(Tp**2), -2/Tp]])\n",
    "    B = np.array([[0],[Am*np.exp(1)/Tp]])\n",
    "\n",
    "for i in range(len(t)):\n",
    "    if np.abs(instants[j]-t[i])<0.1:\n",
    "        a = deltaAmp\n",
    "        j = j + 1\n",
    "    else:\n",
    "        a = 0\n",
    "    dx = A@x + B*a\n",
    "    \n",
    "    x = x + dt*dx\n",
    "    \n",
    "    force[i] = x[0]\n",
    "    \n",
    "    "
   ]
  },
  {
   "cell_type": "code",
   "execution_count": 60,
   "metadata": {},
   "outputs": [
    {
     "data": {
      "image/png": "[encoded data removed]",
      "text/plain": [
       "<matplotlib.figure.Figure at 0x7f00606462e8>"
      ]
     },
     "metadata": {},
     "output_type": "display_data"
    }
   ],
   "source": [
    "import matplotlib.pyplot as plt\n",
    "\n",
    "plt.figure()\n",
    "plt.plot(t,force)\n",
    "plt.show()"
   ]
  },
  {
   "cell_type": "code",
   "execution_count": 67,
   "metadata": {},
   "outputs": [
    {
     "data": {
      "text/plain": [
       "array([  1.        ,   1.04712855,   1.0964782 ,   1.14815362,\n",
       "         1.20226443,   1.25892541,   1.31825674,   1.38038426,\n",
       "         1.44543977,   1.51356125,   1.58489319,   1.65958691,\n",
       "         1.73780083,   1.81970086,   1.90546072,   1.99526231,\n",
       "         2.08929613,   2.18776162,   2.29086765,   2.39883292,\n",
       "         2.51188643,   2.63026799,   2.7542287 ,   2.8840315 ,\n",
       "         3.01995172,   3.16227766,   3.31131121,   3.4673685 ,\n",
       "         3.63078055,   3.80189396,   3.98107171,   4.16869383,\n",
       "         4.36515832,   4.5708819 ,   4.78630092,   5.01187234,\n",
       "         5.2480746 ,   5.49540874,   5.75439937,   6.02559586,\n",
       "         6.30957344,   6.60693448,   6.91830971,   7.2443596 ,\n",
       "         7.58577575,   7.94328235,   8.31763771,   8.7096359 ,\n",
       "         9.12010839,   9.54992586,  10.        ,  10.47128548,\n",
       "        10.96478196,  11.48153621,  12.02264435,  12.58925412,\n",
       "        13.18256739,  13.80384265,  14.45439771,  15.13561248,\n",
       "        15.84893192,  16.59586907,  17.37800829,  18.19700859,\n",
       "        19.05460718,  19.95262315,  20.89296131,  21.87761624,\n",
       "        22.90867653,  23.98832919,  25.11886432,  26.30267992,\n",
       "        27.54228703,  28.84031503,  30.1995172 ,  31.6227766 ,\n",
       "        33.11311215,  34.67368505,  36.30780548,  38.01893963,\n",
       "        39.81071706,  41.68693835,  43.65158322,  45.70881896,\n",
       "        47.86300923,  50.11872336,  52.48074602,  54.95408739,\n",
       "        57.54399373,  60.25595861,  63.09573445,  66.0693448 ,\n",
       "        69.18309709,  72.44359601,  75.8577575 ,  79.43282347,\n",
       "        83.17637711,  87.096359  ,  91.20108394,  95.4992586 ])"
      ]
     },
     "execution_count": 67,
     "metadata": {},
     "output_type": "execute_result"
    }
   ],
   "source": [
    "Am"
   ]
  },
  {
   "cell_type": "code",
   "execution_count": 64,
   "metadata": {},
   "outputs": [
    {
     "data": {
      "text/plain": [
       "1"
      ]
     },
     "execution_count": 64,
     "metadata": {},
     "output_type": "execute_result"
    }
   ],
   "source": [
    "Am"
   ]
  },
  {
   "cell_type": "code",
   "execution_count": 49,
   "metadata": {},
   "outputs": [
    {
     "data": {
      "text/plain": [
       "array([[  17.        ],\n",
       "       [ 792.76060949]])"
      ]
     },
     "execution_count": 49,
     "metadata": {},
     "output_type": "execute_result"
    }
   ],
   "source": [
    "A@x+B*a"
   ]
  },
  {
   "cell_type": "code",
   "execution_count": null,
   "metadata": {},
   "outputs": [],
   "source": []
  }
 ],
 "metadata": {
  "kernelspec": {
   "display_name": "Python 3",
   "language": "python",
   "name": "python3"
  },
  "language_info": {
   "codemirror_mode": {
    "name": "ipython",
    "version": 3
   },
   "file_extension": ".py",
   "mimetype": "text/x-python",
   "name": "python",
   "nbconvert_exporter": "python",
   "pygments_lexer": "ipython3",
   "version": "3.6.3"
  }
 },
 "nbformat": 4,
 "nbformat_minor": 2
}
