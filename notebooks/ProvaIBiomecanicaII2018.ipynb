{
 "cells": [
  {
   "cell_type": "code",
   "execution_count": null,
   "metadata": {},
   "outputs": [],
   "source": []
  },
  {
   "attachments": {},
   "cell_type": "markdown",
   "metadata": {},
   "source": [
    "1) Uma aluna da biomédica realiza um saque viagem num jogo de voleibol com uma bola ($m=300 g$) que a aluna colocou um acelerômetro triaxial dentro dela. Para realizar o saque, a aluna lança a bola para cima e bate na bola no momento que ela alcança a altura máxima. Os valores da aceleração horizontal (em $m/s^2$) da bola medida pelo acelerômetro versus tempo (em $ms$) são apresentados no gráfico abaixo:\n",
    "\n",
    "<figure><img src='./../images/P1BiomecII2018q1a.png' width=\"300\" /></figure>\n",
    "\n",
    "Considerando estes dados:  \n",
    " a)\t(0,5) Faça o diagrama de corpo livre da bola para o instante que a bola está em contato com a mão da aluna  \n",
    " b)\t(0,5) Calcule o valor da força horizontal máxima imprimida à bola pela aluna  \n",
    " c)\t(1,0) Calcule a velocidade horizontal máxima da bola  \n",
    " d)\t(1,0) Calcule o impulso horizontal imprimido à bola  \n",
    " \n",
    "a)  \n",
    "<figure><img src='./../images/P1BiomecII2018q1b.png' width=\"100\" /></figure>\n",
    "\n",
    "b)  \n",
    "$F_{horizontal\\;max} = m \\times a_{horizontal\\;max} = 0.3 \\times 8000 = 2400\\;N $\n",
    "\n",
    "c)  \n",
    "A velocidade horizontal máxima da bola é a velocidade da bola a partir do momento que a mão da aluna para de acelerar a bola (a partir do instante $t=11\\;ms$ no gráfico acima). Esta velocidade pode ser determinada como a velocidade final da bola devido ao impulso mecânico $I$ (segundo o enunciado do problema a velocidade horizontal inicial da bola era zero):  \n",
    "\n",
    "$ I = m\\Delta v = m (v_{final} - v _{inicial}) = m v_{final} $\n",
    "\n",
    "$ v_{final} = I/m $\n",
    "\n",
    "O impulso mecânico pode ser determinado como a área sob a curva do gráfico força versus tempo:\n",
    "\n",
    "$ I = 0.3 \\times 8000 \\times (11-1).10^{-3}/2 = 12 \\; Ns $\n",
    "\n",
    "$ v_{max} = I/m = 12/0.3 = 40\\;m/s$\n",
    "\n",
    "d)  \n",
    "Impulso horizontal imprimido à bola (vide item anterior):\n",
    "\n",
    "$ I = 12 \\; Ns $"
   ]
  },
  {
   "attachments": {},
   "cell_type": "markdown",
   "metadata": {},
   "source": []
  },
  {
   "cell_type": "markdown",
   "metadata": {},
   "source": [
    "1) Uma aluna da biomédica ($m = 50 kg$) realiza um salto vertical e ela mede sua aceleração com um aplicativo em seu smartphone que está preso à sua cintura. Os valores da aceleração vertical versus tempo são apresentados no gráfico abaixo:  \n",
    "\n",
    "<figure><img src='./../images/P1BiomecII2018q1c.png' width=\"400\"/></figure>\n",
    "\n",
    "Considerando estes dados:  \n",
    " a)\t(0,5) Modele o fenômeno e faça o diagrama de corpo livre para o centro de gravidade da aluna  \n",
    " b)\t(1,0) Calcule a velocidade do centro de gravidade no instante que a aluna perde contato com o chão (quando a fase aérea do salto começa)  \n",
    " c)\t(1,0) Calcule o impulso mecânico total sobre o centro de gravidade até o momento da fase aérea do salto  \n",
    " d)\t(0,5) Calcule a altura do salto da aluna (o deslocamento de seu centro de gravidade)  \n",
    " \n",
    "a)  \n",
    "<figure><img src='./../images/P1BiomecII2018q1d.png' width=\"70\"/></figure>\n",
    "\n",
    "b)  \n",
    "Velocidade do centro de gravidade no instante que a aluna perde contato com o chão:\n",
    "\n",
    "A velocidade do centro de gravidade no instante que a aluna perde contato com o chão pode ser determinada como a velocidade final da aluna devido ao impulso mecânico $I$ (segundo o enunciado do problema a velocidade inicial da aluna era zero):  \n",
    "\n",
    "$ I = m\\Delta v = m (v_{final} - v _{inicial}) = m v_{final} $\n",
    "\n",
    "$ v_{final} = I/m $\n",
    "\n",
    "O impulso mecânico pode ser determinado como a área sob a curva do gráfico força versus tempo:\n",
    "\n",
    "$ I = 50 \\times (-5 \\times (1.2-1)/2 + 20 \\times (1.5-1.2)/2 = 50 \\times (-0.5 + 3) = 125 \\; Ns $\n",
    "\n",
    "$ v_{saida} = I/m = 125/50 = 2.5\\;m/s$\n",
    "\n",
    "c)  \n",
    "Impulso mecânico total (vide item anterior):\n",
    "\n",
    "$ I = 125 \\; Ns $\n",
    "\n",
    "d)  \n",
    "A altura do salto da aluna pode ser calculada usando a equação de Torricelli:\n",
    "\n",
    "$ 0 = 2.5^2 - 2 \\times g \\times h $\n",
    "\n",
    "$ h = 0.3125 \\; m$"
   ]
  },
  {
   "cell_type": "code",
   "execution_count": null,
   "metadata": {},
   "outputs": [],
   "source": []
  }
 ],
 "metadata": {
  "kernelspec": {
   "display_name": "Python 3",
   "language": "python",
   "name": "python3"
  },
  "language_info": {
   "codemirror_mode": {
    "name": "ipython",
    "version": 3
   },
   "file_extension": ".py",
   "mimetype": "text/x-python",
   "name": "python",
   "nbconvert_exporter": "python",
   "pygments_lexer": "ipython3",
   "version": "3.6.4"
  },
  "varInspector": {
   "cols": {
    "lenName": 16,
    "lenType": 16,
    "lenVar": 40
   },
   "kernels_config": {
    "python": {
     "delete_cmd_postfix": "",
     "delete_cmd_prefix": "del ",
     "library": "var_list.py",
     "varRefreshCmd": "print(var_dic_list())"
    },
    "r": {
     "delete_cmd_postfix": ") ",
     "delete_cmd_prefix": "rm(",
     "library": "var_list.r",
     "varRefreshCmd": "cat(var_dic_list()) "
    }
   },
   "types_to_exclude": [
    "module",
    "function",
    "builtin_function_or_method",
    "instance",
    "_Feature"
   ],
   "window_display": false
  }
 },
 "nbformat": 4,
 "nbformat_minor": 2
}
