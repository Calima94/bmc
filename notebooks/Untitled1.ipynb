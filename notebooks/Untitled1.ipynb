{
 "cells": [
  {
   "cell_type": "code",
   "execution_count": 5,
   "metadata": {},
   "outputs": [],
   "source": [
    "import numpy as np\n",
    "import matplotlib.pyplot as plt\n",
    "%matplotlib notebook"
   ]
  },
  {
   "cell_type": "code",
   "execution_count": 6,
   "metadata": {},
   "outputs": [],
   "source": [
    "l = 1\n",
    "r = 0.1\n",
    "m = 1\n",
    "I1 = m*(3*r**2+l**2)/12\n",
    "g = 9.81"
   ]
  },
  {
   "cell_type": "code",
   "execution_count": 9,
   "metadata": {},
   "outputs": [],
   "source": [
    "theta0 = np.pi/10\n",
    "\n",
    "\n",
    "omega = 0\n",
    "\n",
    "\n",
    "angles  = np.array([theta0])\n",
    "theta = theta0\n",
    "\n",
    "\n",
    "M1 = 0*2*m*g*l*np.sin(theta0)/4.0\n",
    "\n",
    "dt = 0.0001\n",
    "t = np.arange(0, 3, dt)\n",
    "\n",
    "for i in t[1:]:\n",
    "    dtheta = omega\n",
    "    domega = (-2*m*g*l*np.sin(theta) +4*M1)/(4*I1+m*l**2)\n",
    "    \n",
    "    theta = theta + dt*dtheta\n",
    "    omega = omega + dt*domega\n",
    "    \n",
    "    angles = np.vstack((angles, [theta]))\n",
    "    \n",
    "    "
   ]
  },
  {
   "cell_type": "code",
   "execution_count": 10,
   "metadata": {},
   "outputs": [
    {
     "data": {
      "image/png": "[encoded data removed]",
      "text/plain": [
       "<Figure size 432x288 with 1 Axes>"
      ]
     },
     "metadata": {},
     "output_type": "display_data"
    }
   ],
   "source": [
    "plt.figure()\n",
    "plt.plot(t,angles)\n",
    "plt.show()"
   ]
  },
  {
   "cell_type": "code",
   "execution_count": 17,
   "metadata": {},
   "outputs": [],
   "source": [
    "rcm = l/2*np.hstack(((np.sin(angles[:,0])*0).reshape(angles.shape[0],1),\n",
    "                    (np.sin(angles[:,0])).reshape(angles.shape[0],1),\n",
    "                    (-np.cos(angles[:,0])).reshape(angles.shape[0],1)))"
   ]
  },
  {
   "cell_type": "code",
   "execution_count": 19,
   "metadata": {},
   "outputs": [],
   "source": [
    "m1 = rcm \n",
    "m2 = np.zeros_like(rcm)\n",
    "m3 = rcm + r*np.hstack(((np.cos(angles[:,0])*0).reshape(angles.shape[0],1),\n",
    "                        (np.cos(angles[:,0])).reshape(angles.shape[0],1),\n",
    "                         np.sin(angles[:,0]).reshape(angles.shape[0],1)))\n"
   ]
  },
  {
   "cell_type": "code",
   "execution_count": 23,
   "metadata": {},
   "outputs": [],
   "source": [
    "l = 1\n",
    "r = 0.1\n",
    "m = 1\n",
    "I1 = m*r**2/2\n",
    "I2 = m*(3*r**2+l**2)/12\n",
    "I3 = m*(3*r**2+l**2)/12\n",
    "\n",
    "I = np.array([[I1,0,0],[0,I2,0], [0,0,I3]])\n",
    "\n",
    "dt = t[1]-t[0]\n",
    "\n",
    "rcm = m1\n",
    "vcm = np.diff(rcm, axis = 0)/dt\n",
    "acm = np.diff(vcm, axis = 0)/dt\n",
    "    \n",
    "\n",
    "F = np.zeros_like(m1)\n",
    "Mo = np.zeros_like(F)\n",
    "MoBar = np.zeros_like(F)\n",
    "e1 = np.zeros_like(F)\n",
    "e2 = np.zeros_like(F)\n",
    "e3 = np.zeros_like(F)\n",
    "thetaGlobal = np.zeros_like(F)\n",
    "thetaLocal = np.zeros_like(F)\n",
    "\n",
    "\n",
    "for i in range(acm.shape[0]):\n",
    "    e1[i,:] = m1[i,:] - m2[i,:]\n",
    "    e1[i,:] = e1[i,:]/np.linalg.norm(e1[i,:])\n",
    "    \n",
    "    e2[i,:] = m3[i,:] - m1[i,:]\n",
    "    e2[i,:] = e2[i,:]/np.linalg.norm(e2[i,:])\n",
    "    \n",
    "    e3[i,:] = np.cross(e1[i,:],e2[i,:])\n",
    "    \n",
    "de1dt = np.diff(e1[0:-1,:], axis=0)/(2*dt) + np.diff(e1[1:,:], axis=0)/(2*dt)\n",
    "de2dt = np.diff(e2[0:-1,:], axis=0)/(2*dt) + np.diff(e2[1:,:], axis=0)/(2*dt)\n",
    "de3dt = np.diff(e3[0:-1,:], axis=0)/(2*dt) + np.diff(e3[1:,:], axis=0)/(2*dt)\n",
    "\n",
    "omega = np.hstack((np.sum(de2dt*e3[0:de2dt.shape[0],:], axis=1).reshape(de2dt.shape[0],1),\n",
    "                   np.sum(de3dt*e1[0:de1dt.shape[0],:], axis=1).reshape(de2dt.shape[0],1),\n",
    "                   np.sum(de1dt*e2[0:de2dt.shape[0],:], axis=1).reshape(de2dt.shape[0],1)))\n",
    "\n",
    "alpha = np.diff(omega[0:-1,:], axis=0)/(2*dt) + np.diff(omega[1:,:], axis=0)/(2*dt)"
   ]
  },
  {
   "cell_type": "code",
   "execution_count": 70,
   "metadata": {},
   "outputs": [
    {
     "data": {
      "image/png": "[encoded data removed]",
      "text/latex": [
       "$$\\left[\\begin{matrix}\\cos{\\left (\\beta \\right )} \\cos{\\left (\\gamma \\right )} & \\sin{\\left (\\alpha \\right )} \\sin{\\left (\\beta \\right )} \\cos{\\left (\\gamma \\right )} - \\sin{\\left (\\gamma \\right )} \\cos{\\left (\\alpha \\right )} & \\sin{\\left (\\alpha \\right )} \\sin{\\left (\\gamma \\right )} + \\sin{\\left (\\beta \\right )} \\cos{\\left (\\alpha \\right )} \\cos{\\left (\\gamma \\right )}\\\\\\sin{\\left (\\gamma \\right )} \\cos{\\left (\\beta \\right )} & \\sin{\\left (\\alpha \\right )} \\sin{\\left (\\beta \\right )} \\sin{\\left (\\gamma \\right )} + \\cos{\\left (\\alpha \\right )} \\cos{\\left (\\gamma \\right )} & - \\sin{\\left (\\alpha \\right )} \\cos{\\left (\\gamma \\right )} + \\sin{\\left (\\beta \\right )} \\sin{\\left (\\gamma \\right )} \\cos{\\left (\\alpha \\right )}\\\\- \\sin{\\left (\\beta \\right )} & \\sin{\\left (\\alpha \\right )} \\cos{\\left (\\beta \\right )} & \\cos{\\left (\\alpha \\right )} \\cos{\\left (\\beta \\right )}\\end{matrix}\\right]$$"
      ],
      "text/plain": [
       "⎡cos(β)⋅cos(γ)  sin(α)⋅sin(β)⋅cos(γ) - sin(γ)⋅cos(α)  sin(α)⋅sin(γ) + sin(β)⋅c\n",
       "⎢                                                                             \n",
       "⎢sin(γ)⋅cos(β)  sin(α)⋅sin(β)⋅sin(γ) + cos(α)⋅cos(γ)  -sin(α)⋅cos(γ) + sin(β)⋅\n",
       "⎢                                                                             \n",
       "⎣   -sin(β)                sin(α)⋅cos(β)                          cos(α)⋅cos(β\n",
       "\n",
       "os(α)⋅cos(γ) ⎤\n",
       "             ⎥\n",
       "sin(γ)⋅cos(α)⎥\n",
       "             ⎥\n",
       ")            ⎦"
      ]
     },
     "execution_count": 70,
     "metadata": {},
     "output_type": "execute_result"
    }
   ],
   "source": [
    "import sympy as sym\n",
    "sym.init_printing()\n",
    "\n",
    "alpha1, beta1, gamma1 = sym.symbols('alpha, beta, gamma')\n",
    "\n",
    "Ra = sym.Matrix([[1,0,0],[0,sym.cos(alpha1), -sym.sin(alpha1)],[0,sym.sin(alpha1), sym.cos(alpha1)]])\n",
    "Rb = sym.Matrix([[sym.cos(beta1),0, sym.sin(beta1)],[0,1,0],[-sym.sin(beta1),0 ,sym.cos(beta1)]])\n",
    "Rg = sym.Matrix([[sym.cos(gamma1), -sym.sin(gamma1),0],[sym.sin(gamma1), sym.cos(gamma1),0],[0,0,1]])\n",
    "\n",
    "Rg*Rb*Ra"
   ]
  },
  {
   "cell_type": "code",
   "execution_count": 53,
   "metadata": {},
   "outputs": [],
   "source": [
    "for i in range(alpha.shape[0]):\n",
    "         R = np.vstack((e1[i,:].reshape(1,3),\n",
    "                        e2[i,:].reshape(1,3),\n",
    "                        e3[i,:].reshape(1,3))) \n",
    "        \n",
    "         F[i,:] = m*np.array([0,0,9.81]) + m*acm[i,:]\n",
    "         \n",
    "         alphaGlobal = np.arctan2(-R[1,2],R[2,2])   \n",
    "         betaGlobal = np.arctan2(R[0,2], np.sqrt(R[1,2]**2+R[2,2]**2))   \n",
    "         gammaGlobal = np.arctan2(-R[0,1],R[0,0])\n",
    "         \n",
    "         thetaGlobal[i,:] = np.array([alphaGlobal, betaGlobal, gammaGlobal])  \n",
    "            \n",
    "         r0cm = -rcm[i,:]\n",
    "         MF = -np.cross(r0cm, F[i,:])\n",
    "            \n",
    "         MFBar = R.dot(MF.reshape(3,1)).reshape(1,3)\n",
    "           \n",
    "         MoBar[i,:] = np.array([I1*alpha[i,0] + omega[i,1]*omega[i,2]*(I3-I2) + MFBar[0,0],\n",
    "                                I2*alpha[i,1] + omega[i,0]*omega[i,2]*(I1-I3) + MFBar[0,1],\n",
    "                                I3*alpha[i,2] + omega[i,0]*omega[i,1]*(I2-I1) + MFBar[0,2]])\n",
    "         \n",
    "         Mo[i,:] = (R.T).dot(MoBar[i,:].T)   \n",
    "         \n",
    "         "
   ]
  },
  {
   "cell_type": "code",
   "execution_count": 54,
   "metadata": {},
   "outputs": [
    {
     "data": {
      "text/plain": [
       "array([[1.28293152e-08, 0.00000000e+00, 0.00000000e+00],\n",
       "       [6.91487140e-08, 0.00000000e+00, 0.00000000e+00],\n",
       "       [1.19596670e-07, 0.00000000e+00, 0.00000000e+00],\n",
       "       ...,\n",
       "       [0.00000000e+00, 0.00000000e+00, 0.00000000e+00],\n",
       "       [0.00000000e+00, 0.00000000e+00, 0.00000000e+00],\n",
       "       [0.00000000e+00, 0.00000000e+00, 0.00000000e+00]])"
      ]
     },
     "execution_count": 54,
     "metadata": {},
     "output_type": "execute_result"
    }
   ],
   "source": [
    "Mo"
   ]
  },
  {
   "cell_type": "code",
   "execution_count": 55,
   "metadata": {},
   "outputs": [
    {
     "data": {
      "text/plain": [
       "array([[ 0.00000000e+00,  0.00000000e+00, -2.25666753e-04],\n",
       "       [ 0.00000000e+00,  0.00000000e+00, -6.77000259e-04],\n",
       "       [ 0.00000000e+00,  0.00000000e+00, -1.12833373e-03],\n",
       "       ...,\n",
       "       [ 0.00000000e+00,  0.00000000e+00,  1.10404834e+00],\n",
       "       [ 0.00000000e+00,  0.00000000e+00, -7.95807864e-13],\n",
       "       [ 0.00000000e+00,  0.00000000e+00, -2.27373675e-13]])"
      ]
     },
     "execution_count": 55,
     "metadata": {},
     "output_type": "execute_result"
    }
   ],
   "source": [
    "omega"
   ]
  },
  {
   "cell_type": "code",
   "execution_count": 56,
   "metadata": {},
   "outputs": [
    {
     "data": {
      "text/plain": [
       "array([[ 0.00000000e+00,  0.00000000e+00, -4.51333490e+00],\n",
       "       [ 0.00000000e+00,  0.00000000e+00, -4.51333428e+00],\n",
       "       [ 0.00000000e+00,  0.00000000e+00, -4.51333302e+00],\n",
       "       ...,\n",
       "       [ 0.00000000e+00,  0.00000000e+00, -1.77433989e+00],\n",
       "       [ 0.00000000e+00,  0.00000000e+00, -5.52112928e+03],\n",
       "       [ 0.00000000e+00,  0.00000000e+00, -5.52024171e+03]])"
      ]
     },
     "execution_count": 56,
     "metadata": {},
     "output_type": "execute_result"
    }
   ],
   "source": [
    "alpha"
   ]
  },
  {
   "cell_type": "code",
   "execution_count": null,
   "metadata": {},
   "outputs": [],
   "source": []
  },
  {
   "cell_type": "code",
   "execution_count": 57,
   "metadata": {},
   "outputs": [
    {
     "data": {
      "text/plain": [
       "array([[-1.57079633, -1.25663706, -1.57079633],\n",
       "       [-1.57079633, -1.25663706, -1.57079633],\n",
       "       [-1.57079633, -1.25663711, -1.57079633],\n",
       "       ...,\n",
       "       [ 0.        ,  0.        ,  0.        ],\n",
       "       [ 0.        ,  0.        ,  0.        ],\n",
       "       [ 0.        ,  0.        ,  0.        ]])"
      ]
     },
     "execution_count": 57,
     "metadata": {},
     "output_type": "execute_result"
    }
   ],
   "source": [
    "thetaGlobal"
   ]
  },
  {
   "cell_type": "code",
   "execution_count": 59,
   "metadata": {},
   "outputs": [
    {
     "data": {
      "text/plain": [
       "[<matplotlib.lines.Line2D at 0x7f325f6f7a90>,\n",
       " <matplotlib.lines.Line2D at 0x7f325f6f7be0>,\n",
       " <matplotlib.lines.Line2D at 0x7f325f6f7d30>]"
      ]
     },
     "execution_count": 59,
     "metadata": {},
     "output_type": "execute_result"
    },
    {
     "data": {
      "image/png": "[encoded data removed]",
      "text/plain": [
       "<Figure size 432x288 with 1 Axes>"
      ]
     },
     "metadata": {},
     "output_type": "display_data"
    }
   ],
   "source": [
    "plt.plot(thetaGlobal)"
   ]
  },
  {
   "cell_type": "code",
   "execution_count": 60,
   "metadata": {},
   "outputs": [
    {
     "data": {
      "text/plain": [
       "array([[ 0.        ,  0.12159433, -0.99257988],\n",
       "       [ 0.        ,  0.99257988,  0.12159433],\n",
       "       [ 1.        , -0.        ,  0.        ]])"
      ]
     },
     "execution_count": 60,
     "metadata": {},
     "output_type": "execute_result"
    }
   ],
   "source": [
    "R"
   ]
  },
  {
   "cell_type": "code",
   "execution_count": null,
   "metadata": {},
   "outputs": [],
   "source": []
  }
 ],
 "metadata": {
  "kernelspec": {
   "display_name": "Python 3",
   "language": "python",
   "name": "python3"
  },
  "language_info": {
   "codemirror_mode": {
    "name": "ipython",
    "version": 3
   },
   "file_extension": ".py",
   "mimetype": "text/x-python",
   "name": "python",
   "nbconvert_exporter": "python",
   "pygments_lexer": "ipython3",
   "version": "3.6.5"
  }
 },
 "nbformat": 4,
 "nbformat_minor": 2
}
