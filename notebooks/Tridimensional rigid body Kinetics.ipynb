{
 "cells": [
  {
   "cell_type": "markdown",
   "metadata": {},
   "source": [
    "# Tridimensional rigid body kinetics\n",
    "\n",
    "Renato Naville Watanabe"
   ]
  },
  {
   "cell_type": "markdown",
   "metadata": {},
   "source": [
    "The Newton-Euler laws, remain valid in the tridimensional motion of a rigid body (for revision on Newton-Euler laws, [see this notebook about these laws](newton_euler_equations.ipynb)).\n",
    "\n",
    "\\begin{equation}\n",
    "    \\vec{\\bf{F}} = m\\vec{\\bf{a_{cm}}}\n",
    "\\end{equation}\n",
    "\n",
    "\\begin{equation}\n",
    "    \\vec{\\bf{M_O}} = \\frac{d\\vec{\\bf{H_O}}}{dt}\n",
    "\\end{equation}\n",
    "\n",
    "The resultant force, resultant moments around a point O and the acceleration of the center of mass are computed in the same way of the two-dimensional case. \n",
    "\n",
    "\\begin{equation}\n",
    "    \\vec{\\bf{F}} = \\sum\\limits_{i=1}^n \\vec{\\bf{F_n}}\n",
    "\\end{equation}\n",
    "\n",
    "\\begin{equation}\n",
    "    \\vec{\\bf{M_O}} = \\sum\\limits_{i=1}^n \\vec{\\bf{r_{i/O}}} \\times \\vec{\\bf{F_i}}\n",
    "\\end{equation}\n",
    "\n",
    "\\begin{equation}\n",
    "    \\vec{\\bf{a_{cm}}} = \\frac{d^2\\vec{\\bf{r_{cm}}}}{dt^2}\n",
    "\\end{equation}\n",
    "\n",
    "\n",
    "The major difference that appears when we are dealing with tridimensional motions is to compute the derivative of the angular momentum. For the sake of simplicity, we will do the analysis considering the point O as the center of mass of the body.\n"
   ]
  },
  {
   "cell_type": "markdown",
   "metadata": {},
   "source": [
    "We begin computing the angular momentum of a rigid body around its center of mass.\n",
    "\n",
    "\\begin{equation}\n",
    "    \\vec{\\boldsymbol{H_{cm}}} =  \\int_B \\vec{\\boldsymbol{r_{/cm}}} \\times \\vec{\\boldsymbol{v}}\\,dm = \\int  \\vec{\\boldsymbol{r_{/cm}}} \\times (\\vec{\\boldsymbol{\\omega}}\\times\\vec{\\boldsymbol{r_{/cm}}})\\,dm\n",
    "\\end{equation}\n",
    "where $\\vec{\\boldsymbol{r_{/cm}}}$ is the vector from the point O to the position of the infinitesimal mass considered in the integral. For simplicity of the notation, we will use $\\vec{\\boldsymbol{r}} = \\vec{\\boldsymbol{r_{/cm}}}$.\n",
    "\n",
    "So, the angular momentum is:\n",
    "\n",
    "\\begin{align}\n",
    "\\begin{split}\n",
    " \\vec{\\boldsymbol{H_{cm}}} = \\int  \\vec{\\boldsymbol{r}} \\times (\\vec{\\boldsymbol{\\omega}}\\times\\vec{\\boldsymbol{r}})\\,dm &=&\n",
    "      \\int  &(r_x\\hat{\\boldsymbol{i}} + r_y\\hat{\\boldsymbol{j}}+r_z\\hat{\\boldsymbol{k}}) \\times \\left[(\\omega_x\\hat{\\boldsymbol{i}} + \\omega_y\\hat{\\boldsymbol{j}}+\\omega_z\\hat{\\boldsymbol{k}})\\times(r_x\\hat{\\boldsymbol{i}} + r_y\\hat{\\boldsymbol{j}}+r_z\\hat{\\boldsymbol{k}})\\right]\\,dm =\\\\ \n",
    "      &=& \\int &(r_x\\hat{\\boldsymbol{i}} + r_y\\hat{\\boldsymbol{j}}+r_z\\hat{\\boldsymbol{k}}) \\times \\left[(\\omega_x r_y\\hat{\\boldsymbol{k}} - \\omega_xr_z\\hat{\\boldsymbol{j}} - \\omega_yr_x\\hat{\\boldsymbol{k}} + \\omega_yr_z\\hat{\\boldsymbol{i}}+ \\omega_zr_x\\hat{\\boldsymbol{j}}- \\omega_zr_y\\hat{\\boldsymbol{i}}\\right]\\,dm =\\\\\n",
    "      &=& \\int&(-\\omega_x r_xr_y\\hat{\\boldsymbol{j}} -\\omega_x r_xr_z\\hat{\\boldsymbol{k}} +\\omega_y r_x^2\\hat{\\boldsymbol{j}} + \\omega_zr_x^2\\hat{\\boldsymbol{k}}+ \\omega_xr_y^2\\hat{\\boldsymbol{i}} -\\omega_yr_xr_y\\hat{\\boldsymbol{i}}-\\\\\n",
    "      &&&-\\omega_yr_yr_z\\hat{\\boldsymbol{k}}+\\omega_zr_y^2\\hat{\\boldsymbol{k}}+\\omega_x r_z^2\\hat{\\boldsymbol{i}} +\\omega_y r_z^2\\hat{\\boldsymbol{j}} -\\omega_z r_xr_z\\hat{\\boldsymbol{i}} - \\omega_zr_yr_z\\hat{\\boldsymbol{j}})\\,dm=\\\\\n",
    "      &=&\\bigg(&\\int \\omega_xr_y^2 -\\omega_yr_xr_y+\\omega_x r_z^2-\\omega_z r_xr_z\\,dm\\bigg)\\;\\hat{\\boldsymbol{i}}+\\\\\n",
    "      & &+\\bigg(&\\int-\\omega_x r_xr_y +\\omega_y r_x^2 +\\omega_y r_z^2  - \\omega_zr_yr_z\\,dm\\bigg)\\hat{\\boldsymbol{j}}+\\\\\n",
    "      & &+\\bigg(&\\int-\\omega_x r_xr_z  + \\omega_zr_x^2-\\omega_yr_yr_z+\\omega_zr_y^2 \\,dm\\bigg)\\hat{\\boldsymbol{k}}=\\\\\n",
    "      &=&\\bigg(\\int &\\omega_x(r_y^2+r_z^2)\\,dm+  \\int-\\omega_yr_xr_y\\,dm + \\int-\\omega_z r_xr_z\\,dm\\bigg)\\;\\hat{\\boldsymbol{i}}+\\\\\n",
    "      & &+&\\bigg(\\int-\\omega_x r_xr_y\\,dm +\\int\\omega_y (r_x^2 +r_z^2)\\,dm + \\int- \\omega_zr_yr_z\\,dm\\bigg)\\hat{\\boldsymbol{j}}+\\\\\n",
    "      & &+&\\bigg(\\int-\\omega_x r_xr_z\\,dm  + \\int-\\omega_yr_yr_z\\,dm + \\int \\omega_z(r_x^2+r_y^2) \\,dm\\bigg)\\hat{\\boldsymbol{k}}=\\\\\n",
    "      &=&&\\bigg(\\omega_x\\int (r_y^2+r_z^2)\\,dm+  \\omega_y\\int-r_xr_y\\,dm + \\omega_z\\int- r_xr_z\\,dm\\bigg)\\;\\hat{\\boldsymbol{i}}+\\\\\n",
    "      & &+&\\bigg(\\omega_x\\int- r_xr_y\\,dm +\\omega_y\\int (r_x^2 +r_z^2)\\,dm +  \\omega_z\\int-r_yr_z\\,dm\\bigg)\\hat{\\boldsymbol{j}}+\\\\\n",
    "      & &+&\\bigg(\\omega_x\\int- r_xr_z\\,dm  + \\omega_y\\int-r_yr_z\\,dm + \\omega_z\\int (r_x^2+r_y^2) \\,dm\\bigg)\\hat{\\boldsymbol{k}} = \\\\\n",
    "      &=&&\\bigg(\\omega_xI_{xx}^{cm}+  \\omega_yI_{xy}^{cm} + \\omega_zI_{xz}^{cm}\\bigg)\\;\\hat{\\boldsymbol{i}}+\\\\\n",
    "      & &+&\\bigg(\\omega_xI_{xy}^{cm} +\\omega_yI_{yy}^{cm} +  \\omega_zI_{yz}^{cm}\\bigg)\\hat{\\boldsymbol{j}}+\\\\\n",
    "      & &+&\\bigg(\\omega_xI_{yz}^{cm}  + \\omega_yI_{yz}^{cm} + \\omega_zI_{zz}^{cm}\\bigg)\\hat{\\boldsymbol{k}}=\\\\\n",
    "      &=&&\\left[\\begin{array}{ccc}I_{xx}^{cm}&I_{xy}^{cm}&I_{xz}^{cm}\\\\\n",
    "                                  I_{xy}^{cm}&I_{yy}^{cm}&I_{yz}^{cm}\\\\\n",
    "                                  I_{xz}^{cm}&I_{yz}^{cm}&I_{zz}^{cm}\\end{array}\\right]\\cdot\n",
    "               \\left[\\begin{array}{c}\\omega_x\\\\\\omega_y\\\\\\omega_z \\end{array}\\right] = I\\vec{\\boldsymbol{\\omega}}\n",
    "      \\end{split}\n",
    "      \\label{eq:angmom}\n",
    " \\end{align}\n",
    " \n",
    " where this matrix is the Matrix of Inertia (or more rigorously speaking, Tensor of Inertia) as defined previously in [this notebook about moment of inertia](CenterOfMassAndMomentOfInertia.ipynb#matrixinertia)."
   ]
  },
  {
   "cell_type": "markdown",
   "metadata": {},
   "source": [
    " So, to compute the angular momentum of a body we have to multiply the matrix of inertia $I$ of the body by its angular velocity $\\vec{\\boldsymbol{\\omega}}$. The problem on this approach is that the moments and products of inertia depends on the orientation of the body relative to the frame of reference. As they depend on the the distances of each point of the body to the axes, if the body is rotating, the matrix of inertia I will be different at each instant.\n",
    "\n",
    "<figure><img src=\"../images/3Dbodyref.png\\\" width=800 />\n",
    "    \n",
    "The solution to this problem is to attach a frame of reference to the body. We will denote this frame of reference as $\\hat{\\boldsymbol{e_1}}$, $\\hat{\\boldsymbol{e_2}}$ and $\\hat{\\boldsymbol{e_3}}$, with origin in the center of mass of the body. As can be noted from the figure below, the frame of reference moves along the body. Now the matrix of inertia $I$ will be constant relative to this new basis $\\hat{\\boldsymbol{e_1}}$, $\\hat{\\boldsymbol{e_2}}$ and $\\hat{\\boldsymbol{e_3}}$.\n",
    "\n",
    "<figure><img src=\"../images/3DbodyrefMove.png\\\" width=800 />\n",
    "\n",
    "So, we can write the angular momentum vector relative to this new basis. To do this, we must write the angular velocity in this new basis:\n",
    "\n",
    "\\begin{equation}\n",
    "    \\vec{\\boldsymbol{\\omega}} = \\omega_1\\hat{\\boldsymbol{e_1}} + \\omega_2\\hat{\\boldsymbol{e_2}} + \\omega_3\\hat{\\boldsymbol{e_3}}  \n",
    "\\end{equation}\n",
    "\n",
    "Note that this angular velocity is the same vector that we used previously in Eq. \\eqref{eq:angmom}. We are just describing it in a basis attached to the body (local basis).\n",
    "\n",
    "As we can choose the basis versors as we want, we can choose them so as to the products of inertia be equal to zero. This can always be done. If the body has axes of symmetry,  we can choose this axes (principal axes) as the direction of the basis to the products of inertia be equal to zero. Having the basis $\\hat{\\boldsymbol{e_1}}$, $\\hat{\\boldsymbol{e_2}}$ and $\\hat{\\boldsymbol{e_3}}$, the matrix of inertia will be:\n",
    "\n",
    "\\begin{equation}\n",
    "    I = \\left[\\begin{array}{ccc}I_1&0&0\\\\\n",
    "          0&I_2&0\\\\\n",
    "          0&0&I_3\\end{array}\\right]\n",
    "\\end{equation}\n",
    "\n",
    "So, using the basis in the direction of the principal axes of the body the angular momentum simplifies to:\n",
    "\n",
    "\\begin{equation}\n",
    " \\vec{\\boldsymbol{H_{cm}}} = I\\vec{\\boldsymbol{\\omega}} = I_1\\omega_1 \\hat{\\boldsymbol{e_1}} + I_2\\omega_2 \\hat{\\boldsymbol{e_2}} +I_3\\omega_3 \\hat{\\boldsymbol{e_3}} \n",
    " \\label{eq:angmomprinc}\n",
    "\\end{equation}"
   ]
  },
  {
   "cell_type": "markdown",
   "metadata": {},
   "source": [
    "For the second Newton-Euler law, we must compute the derivative of the angular momentum. So, we derive the angular momentum in Eq. \\eqref{eq:angmomprinc}. As the versors $\\hat{\\boldsymbol{e_1}}$, $\\hat{\\boldsymbol{e_2}}$ and $\\hat{\\boldsymbol{e_3}}$ are varying in time, we must consider their derivatives.\n",
    "\n",
    "\\begin{equation}\n",
    "    \\frac{d\\vec{\\boldsymbol{H_{cm}}}}{dt} = I_1\\dot{\\omega_1}\\hat{\\boldsymbol{e_1}} + I_2\\dot{\\omega_2}\\hat{\\boldsymbol{e_2}}+I_3\\dot{\\omega_3}\\hat{\\boldsymbol{e_3}} + I_1\\omega_1\\frac{d\\hat{\\boldsymbol{e_1}}}{dt} + I_2\\omega_2\\frac{d\\hat{\\boldsymbol{e_2}}}{dt}+I_3\\omega_3\\frac{d\\hat{\\boldsymbol{e_3}}}{dt}\n",
    "    \\label{eq:derivangmom}\n",
    "\\end{equation}\n",
    "\n",
    "Now it only remains to find an expression for the derivative of the versors $\\frac{d\\hat{\\boldsymbol{e_1}}}{dt}$, $\\frac{d\\hat{\\boldsymbol{e_2}}}{dt}$ and $\\frac{d\\hat{\\boldsymbol{e_3}}}{dt}$. "
   ]
  },
  {
   "cell_type": "markdown",
   "metadata": {},
   "source": [
    "It would be interesting to find some relation between these derivatives and the angular velocity of the body. So, now we will express the angular velocity $\\vec{\\boldsymbol{\\omega}}$ in  terms of these derivatives. Remember that the angular velocity is described as a vector in the orthogonal plane of the rotation. ($\\vec{\\boldsymbol{\\omega_1}} = \\frac{d\\theta_1}{dt}\\hat{\\boldsymbol{e_1}}$, $\\vec{\\boldsymbol{\\omega_2}} = \\frac{d\\theta_2}{dt}\\hat{\\boldsymbol{e_2}}$ and $\\vec{\\boldsymbol{\\omega_3}} = \\frac{d\\theta_3}{dt}\\hat{\\boldsymbol{e_3}}$). Note also that the derivative of the angle $\\theta_1$ can be described as the projection of the vector $\\frac{d\\hat{\\boldsymbol{e_2}}}{dt}$ on the vector $\\hat{\\boldsymbol{e_3}}$. This can be written by using the scalar product between these vectors: $ \\frac{d\\theta_1}{dt} = \\frac{d\\hat{\\boldsymbol{e_2}}}{dt}\\cdot \\hat{\\boldsymbol{e_3}}$. Similarly, the same is valid for the angles in the other two directions: $ \\frac{d\\theta_2}{dt} = \\frac{d\\hat{\\boldsymbol{e_3}}}{dt}\\cdot \\hat{\\boldsymbol{e_1}}$ and $ \\frac{d\\theta_3}{dt} = \\frac{d\\hat{\\boldsymbol{e_1}}}{dt}\\cdot \\hat{\\boldsymbol{e_2}}$.\n",
    "\n",
    "<figure><img src=\"../images/derivVersor.png\\\" width=400 />\n",
    "    \n",
    "    \n",
    "So, we can write the angular velocity as:\n",
    "\n",
    "\\begin{equation}\n",
    "    \\vec{\\boldsymbol{\\omega}} =  \\left(\\frac{d\\hat{\\boldsymbol{e_2}}}{dt}\\cdot \\hat{\\boldsymbol{e_3}}\\right) \\hat{\\boldsymbol{e_1}} + \\left(\\frac{d\\hat{\\boldsymbol{e_3}}}{dt}\\cdot \\hat{\\boldsymbol{e_1}}\\right) \\hat{\\boldsymbol{e_2}} + \\left(\\frac{d\\hat{\\boldsymbol{e_1}}}{dt}\\cdot \\hat{\\boldsymbol{e_2}}\\right) \\hat{\\boldsymbol{e_3}}\n",
    "    \\label{eq:angvel}\n",
    "\\end{equation}\n",
    "\n",
    "Now, we must isolate the derivative of the versors to substitute them in the Eq. \\eqref{eq:derivangmom}. To isolate the derivative of the versor $\\hat{\\boldsymbol{e_1}}$, first we cross multiply both sides of the equation above by $\\hat{\\boldsymbol{e_1}}$:\n",
    "\n",
    "\\begin{equation}\n",
    "    \\vec{\\boldsymbol{\\omega}} \\times \\hat{\\boldsymbol{e_1}} = - \\left(\\frac{d\\hat{\\boldsymbol{e_3}}}{dt}\\cdot \\hat{\\boldsymbol{e_1}}\\right) \\hat{\\boldsymbol{e_3}} + \\left(\\frac{d\\hat{\\boldsymbol{e_1}}}{dt}\\cdot \\hat{\\boldsymbol{e_2}}\\right) \\hat{\\boldsymbol{e_2}}\n",
    "\\end{equation}\n",
    "\n",
    "If we note that the term multipliying $\\hat{\\boldsymbol{e_3}}$ in the right side of the identity can be obtained by $\\frac{d\\hat{\\boldsymbol{e_1}}\\cdot\\hat{\\boldsymbol{e_3}} }{dt} = \\frac{d\\hat{\\boldsymbol{e_1}}}{dt}\\cdot\\hat{\\boldsymbol{e_3}} + \\frac{d\\hat{\\boldsymbol{e_3}}}{dt}\\cdot\\hat{\\boldsymbol{e_1}} \\rightarrow 0 = \\frac{d\\hat{\\boldsymbol{e_1}}}{dt}\\cdot\\hat{\\boldsymbol{e_3}} + \\frac{d\\hat{\\boldsymbol{e_3}}}{dt}\\cdot\\hat{\\boldsymbol{e_1}} \\rightarrow \\frac{d\\hat{\\boldsymbol{e_3}}}{dt}\\cdot\\hat{\\boldsymbol{e_1}}  = - \\frac{d\\hat{\\boldsymbol{e_1}}}{dt}\\cdot\\hat{\\boldsymbol{e_3}} $ (the scalar product $\\hat{\\boldsymbol{e_1}}\\cdot\\hat{\\boldsymbol{e_3}}$ is zero because these vectors are orthogonal ), we can write the equation above becomes:\n",
    "\n",
    "\\begin{equation}\n",
    "    \\vec{\\boldsymbol{\\omega}} \\times \\hat{\\boldsymbol{e_1}} = \\left(\\frac{d\\hat{\\boldsymbol{e_1}}}{dt}\\cdot \\hat{\\boldsymbol{e_3}}\\right) \\hat{\\boldsymbol{e_3}} + \\left(\\frac{d\\hat{\\boldsymbol{e_1}}}{dt}\\cdot \\hat{\\boldsymbol{e_2}}\\right) \\hat{\\boldsymbol{e_2}}\n",
    "\\end{equation}\n",
    "\n",
    "Finally, we can note that $\\frac{d\\hat{\\boldsymbol{e_1}}\\cdot\\hat{\\boldsymbol{e_1}} }{dt} = \\frac{d\\hat{\\boldsymbol{e_1}}}{dt}\\cdot\\hat{\\boldsymbol{e_1}} + \\frac{d\\hat{\\boldsymbol{e_1}}}{dt}\\cdot\\hat{\\boldsymbol{e_1}} \\rightarrow \\frac{d(1)}{dt} = 2\\frac{d\\hat{\\boldsymbol{e_1}}}{dt}\\cdot\\hat{\\boldsymbol{e_1}} \\rightarrow \\frac{d\\hat{\\boldsymbol{e_1}}}{dt}\\cdot\\hat{\\boldsymbol{e_1}}  = 0 $. As this term is equal to zero, we can add it to the expression above:\n",
    "\n",
    "\\begin{equation}\n",
    "    \\vec{\\boldsymbol{\\omega}} \\times \\hat{\\boldsymbol{e_1}} = \\left(\\frac{d\\hat{\\boldsymbol{e_1}}}{dt}\\cdot\\hat{\\boldsymbol{e_1}}\\right)\\hat{\\boldsymbol{e_1}} +  \\left(\\frac{d\\hat{\\boldsymbol{e_1}}}{dt}\\cdot \\hat{\\boldsymbol{e_3}}\\right) \\hat{\\boldsymbol{e_3}} + \\left(\\frac{d\\hat{\\boldsymbol{e_1}}}{dt}\\cdot \\hat{\\boldsymbol{e_2}}\\right) \\hat{\\boldsymbol{e_2}} \n",
    "\\end{equation}\n",
    "\n",
    "Note that the expression above is just another manner to write the vector $\\frac{d\\hat{\\boldsymbol{e_1}}}{dt}$, as any vector can be described by the sum of the projections on each of the versors forming a basis.\n",
    "\n",
    "So, the derivative of the versor $\\hat{\\boldsymbol{e_1}}$  can be written as:\n",
    "\n",
    "\\begin{equation}\n",
    "    \\frac{d\\hat{\\boldsymbol{e_1}}}{dt} = \\vec{\\boldsymbol{\\omega}} \\times \\hat{\\boldsymbol{e_1}}\n",
    "\\end{equation}\n",
    "\n",
    "Similarly, the derivatives of the versors $\\hat{\\boldsymbol{e_2}}$ and $\\hat{\\boldsymbol{e_3}}$ can be written as:\n",
    "\n",
    "\\begin{equation}\n",
    "    \\frac{d\\hat{\\boldsymbol{e_2}}}{dt} = \\vec{\\boldsymbol{\\omega}} \\times \\hat{\\boldsymbol{e_2}} ~~~~~~~~\\text{and} ~~~~~~ \\frac{d\\hat{\\boldsymbol{e_3}}}{dt} = \\vec{\\boldsymbol{\\omega}} \\times \\hat{\\boldsymbol{e_3}}\n",
    "\\end{equation}\n",
    "\n"
   ]
  },
  {
   "cell_type": "markdown",
   "metadata": {},
   "source": [
    "Now we can get back to the equation describing the derivative of the angular momentum (Eq.\\eqref{eq:derivangmom}):\n",
    "\n",
    "\\begin{align}\n",
    "    \\begin{split}\n",
    "    \\frac{d\\vec{\\boldsymbol{H_{cm}}}}{dt} =&I_1\\dot{\\omega_1}\\hat{\\boldsymbol{e_1}} + I_2\\dot{\\omega_2}\\hat{\\boldsymbol{e_2}}+I_3\\dot{\\omega_3}\\hat{\\boldsymbol{e_3}} + I_1\\omega_1\\frac{d\\hat{\\boldsymbol{e_1}}}{dt} + I_2\\omega_2\\frac{d\\hat{\\boldsymbol{e_2}}}{dt}+I_3\\omega_3\\frac{d\\hat{\\boldsymbol{e_3}}}{dt}=\\\\\n",
    "    =& I_1\\dot{\\omega_1}\\hat{\\boldsymbol{e_1}} + I_2\\dot{\\omega_2}\\hat{\\boldsymbol{e_2}}+I_3\\dot{\\omega_3}\\hat{\\boldsymbol{e_3}} + I_1\\omega_1(\\vec{\\boldsymbol{\\omega}} \\times \\hat{\\boldsymbol{e_1}}) + I_2\\omega_2(\\vec{\\boldsymbol{\\omega}} \\times \\hat{\\boldsymbol{e_2}})+I_3\\omega_3(\\vec{\\boldsymbol{\\omega}} \\times \\hat{\\boldsymbol{e_3}}) = \\\\\n",
    "   =& I_1\\dot{\\omega_1}\\hat{\\boldsymbol{e_1}} + I_2\\dot{\\omega_2}\\hat{\\boldsymbol{e_2}}+I_3\\dot{\\omega_3}\\hat{\\boldsymbol{e_3}} + \\vec{\\boldsymbol{\\omega}} \\times I_1\\omega_1\\hat{\\boldsymbol{e_1}} + \\vec{\\boldsymbol{\\omega}} \\times I_2\\omega_2\\hat{\\boldsymbol{e_2}}+\\vec{\\boldsymbol{\\omega}} \\times I_3\\omega_3\\hat{\\boldsymbol{e_3}} = \\\\\n",
    "   =& I_1\\dot{\\omega_1}\\hat{\\boldsymbol{e_1}} + I_2\\dot{\\omega_2}\\hat{\\boldsymbol{e_2}}+I_3\\dot{\\omega_3}\\hat{\\boldsymbol{e_3}} + \\vec{\\boldsymbol{\\omega}} \\times (I_1\\omega_1\\hat{\\boldsymbol{e_1}} + I_2\\omega_2\\hat{\\boldsymbol{e_2}} +  I_3\\omega_3\\hat{\\boldsymbol{e_3}})=\\\\\n",
    "   =&I\\dot{\\vec{\\boldsymbol{\\omega}}} + \\vec{\\boldsymbol{\\omega}} \\times (I\\vec{\\boldsymbol{\\omega}})\n",
    "   \\end{split}\n",
    "   \\label{eq:derivangmomVec}\n",
    "\\end{align}\n",
    "\n",
    "\n",
    "Performing the cross products, we can get the expressions for each of the coordinates attached to the body:\n",
    "\n",
    "\\begin{align}\n",
    "    \\begin{split}\n",
    "    \\frac{d\\vec{\\boldsymbol{H_{cm}}}}{dt} =\\left[\\begin{array}{c}I_1\\dot{\\omega_1}\\\\I_2\\dot{\\omega_2}\\\\I_3\\dot{\\omega_3}\\end{array}\\right] + \\left[\\begin{array}{c}\\omega_1\\\\\\omega_2\\\\\\omega_3\\end{array}\\right]  \\times \\left[\\begin{array}{c}I_1\\omega_1\\\\I_2\\omega_2\\\\I_3\\omega_3\\end{array}\\right]  = \\left[\\begin{array}{c}I_1\\dot{\\omega_1} + \\omega_2\\omega_3(I_3-I_2)\\\\I_2\\dot{\\omega_2}+\\omega_1\\omega_3(I_1-I_3)\\\\I_3\\dot{\\omega_3}+\\omega_1\\omega_2(I_2-I_1)\\end{array}\\right] \n",
    "   \\end{split}\n",
    "\\end{align}\n",
    "\n"
   ]
  },
  {
   "cell_type": "markdown",
   "metadata": {},
   "source": [
    "Having computed the derivative of the angular momentum, we have the final forms of the Newton-Euler laws:\n",
    "\n",
    "\\begin{equation}\n",
    "    F_x = ma_{cm_x}\n",
    "\\end{equation}\n",
    "\n",
    "\\begin{equation}\n",
    "    F_y = ma_{cm_y}\n",
    "\\end{equation}\n",
    "\n",
    "\\begin{equation}\n",
    "    F_z = ma_{cm_z}\n",
    "\\end{equation}\n",
    "\n",
    "\\begin{equation}\n",
    "    M_{cm_1} = I_1\\dot{\\omega_1} + \\omega_2\\omega_3(I_3-I_2)\n",
    "    \\label{eq:M1}\n",
    "\\end{equation}\n",
    "\n",
    "\\begin{equation}\n",
    "    M_{cm_2} = I_2\\dot{\\omega_2}+\\omega_1\\omega_3(I_1-I_3)\n",
    "    \\label{eq:M2}\n",
    "\\end{equation}\n",
    "\n",
    "\\begin{equation}\n",
    "    M_{cm_3} = I_3\\dot{\\omega_3}+\\omega_1\\omega_2(I_2-I_1)\n",
    "    \\label{eq:M3}\n",
    "\\end{equation}\n",
    "\n",
    "Note that the equations of the forces are written in the global frame of reference and the equations of the moments are described in the frame of reference of the body. So, before using the equations Eq.\\eqref{eq:M1},\\eqref{eq:M2} and \\eqref{eq:M3} you must transform all the forces and moment-arms to the frame of reference of the body by using rotation matrices.\n",
    "\n",
    "Below are shown some examples with tridimensional kinematic data to find the forces and moments acting on the body."
   ]
  },
  {
   "cell_type": "markdown",
   "metadata": {},
   "source": [
    "## Examples"
   ]
  },
  {
   "cell_type": "markdown",
   "metadata": {},
   "source": [
    "### 1 ) 3D pendulum bar\n",
    "\n",
    " At the file '../data/3Dpendulum.txt' there are 3 seconds of data of 3 points of the tridimensional cylindrical pendulum, very similar to the pendulum shown in the [notebook about free-body diagrams](FreeBodyDiagramForRigidBodies.ipynb#pendulum), except that it can move in every direction. Also it has a motor at the upper part of the cylindrical bar producing torques to move the bar. It has mass $m=1$ kg, length $l=1$ m and radius $r=0.1$ m. The point m1 is at the upper part of the cylinder and is the origin of the system. The point m2 is at the center of mass of the cylinder and the point m3 is a point at the surface of the cylinder. \n",
    " \n",
    "The free-body diagram of the 3d pendulum is depicted below. There is the gravitational force acting at the center of mass of gravity of the body and the torque $M_1$ due to the motor acting on the pendulum and the force $F_1$ due to the restraint at the upper part of the cylinder. Together with the forces, the local basis $\\hat{\\boldsymbol{e_1}}$, $\\hat{\\boldsymbol{e_2}}$ and $\\hat{\\boldsymbol{e_3}}$ in the direction of the principal axes an origin at the center of mass of the body is also shown.\n",
    "\n",
    "<figure><img src=\"../images/3DpendulumFBD.png\\\" width=400 />\n",
    "\n",
    "The resultant forces acting on the cylinder is:\n",
    "\n",
    "\\begin{equation}\n",
    "    \\vec{\\boldsymbol{F}} = \\vec{\\boldsymbol{F_O}} - mg\\hat{\\boldsymbol{k}}\n",
    "\\end{equation}\n",
    "\n",
    "So, the first Newton-Euler law, at each component of the global  basis, is written as:\n",
    "\n",
    "\\begin{align}\n",
    "    \\begin{split}\n",
    "        F_{O_x} &=  ma_{cm_x} &\\rightarrow  F_{O_x} &=  ma_{cm_x} \\\\\n",
    "        F_{O_y} &= ma_{cm_y} &\\rightarrow  F_{O_y} &=  ma_{cm_y}\\\\\n",
    "        F_{O_z} - mg &= ma_{cm_z} &\\rightarrow  F_{O_z} &=  ma_{cm_z} + mg \n",
    "    \\end{split}\n",
    "    \\label{eq:fnependulum}\n",
    "\\end{align}\n",
    "\n",
    "Now, the resultant moment applied to the body, computed relative to the center of mass, is:\n",
    "\n",
    "\\begin{equation}\n",
    "    \\vec{\\boldsymbol{M}} = \\vec{\\boldsymbol{M_O}} + \\vec{\\boldsymbol{r_{O/cm}}} \\times \\vec{\\boldsymbol{F_O}}\n",
    "\\end{equation}\n",
    "\n",
    "So, the second Newton-Euler law, at each of the components at the local basis of the body, is written as:\n",
    "\n",
    "\\begin{align}\n",
    "    \\begin{split}\n",
    "        M_{O_1} + MFocm_1 &= I_1\\dot{\\omega_1} + \\omega_2\\omega_3(I_3-I_2) \\rightarrow M_{O_1} &= I_1\\dot{\\omega_1} + \\omega_2\\omega_3(I_3-I_2) -  MFocm_1\\\\\n",
    "        M_{O_2} + MFocm_2 &= I_2\\dot{\\omega_2} + \\omega_1\\omega_3(I_1-I_3) \\rightarrow M_{O_2} &= I_2\\dot{\\omega_2} + \\omega_1\\omega_3(I_1-I_3) -  MFocm_2\\\\\n",
    "        M_{O_3} + MFocm_3 &= I_3\\dot{\\omega_3} + \\omega_1\\omega_2(I_2-I_1) \\rightarrow M_{O_3} &= I_3\\dot{\\omega_3} + \\omega_1\\omega_2(I_2-I_1) -  MFocm_3        \n",
    "    \\end{split}\n",
    "\\end{align}\n",
    "\n",
    "where $\\vec{\\boldsymbol{MFocm}} = \\vec{\\boldsymbol{r_{O/cm}}} \\times \\vec{\\boldsymbol{F_O}}$.\n",
    "\n",
    "The moments of inertia at the directions of $\\hat{\\boldsymbol{e_1}}$, $\\hat{\\boldsymbol{e_2}}$ and $\\hat{\\boldsymbol{e_3}}$ are, $I_1 = \\frac{mR^2}{12}$ and $I_2=I_3=\\frac{m(3R^2+l^2)}{12}$. Now, to compute the moment $ \\vec{\\boldsymbol{M_O}}$ and the force  $\\vec{\\boldsymbol{F_O}}$, we will need to find the acceleration of the center of mass $ \\vec{\\boldsymbol{a_{cm}}}$, the angular velocity  $\\vec{\\boldsymbol{\\omega}}$, the time-derivatives of each component of the angular velocity, and the moment-arm $\\vec{\\boldsymbol{r_{O/cm}}}$ to compute the torque due to the force $\\vec{\\boldsymbol{F_O}}$. These signals will come from the kinematic data file.\n",
    "\n",
    "First,  we need to open the file with the data:"
   ]
  },
  {
   "cell_type": "code",
   "execution_count": 1,
   "metadata": {},
   "outputs": [],
   "source": [
    "import numpy as np\n",
    "import matplotlib.pyplot as plt\n",
    "%matplotlib notebook\n",
    "plt.rc('text', usetex=True)\n",
    "plt.rc('font', family='serif')\n",
    "\n",
    "\n",
    "data = np.loadtxt('../data/3dPendulum.txt', skiprows=1, delimiter = ',')\n",
    "m = 1\n",
    "g= 9.81\n",
    "l = 1\n",
    "r = 0.1\n",
    "\n",
    "I1 = m*r**2/12\n",
    "I2 = m*(3*r**2+l**2)/12\n",
    "I3 = I2"
   ]
  },
  {
   "cell_type": "markdown",
   "metadata": {},
   "source": [
    "Now, we assign the proper columns to variables:"
   ]
  },
  {
   "cell_type": "code",
   "execution_count": 2,
   "metadata": {},
   "outputs": [],
   "source": [
    "t = data[:,0]\n",
    "m1 = data[:,1:4]\n",
    "m2 = data[:,4:7]\n",
    "m3 = data[:,7:]\n",
    "\n"
   ]
  },
  {
   "cell_type": "markdown",
   "metadata": {},
   "source": [
    "As the center of mass is the data contained in m2, we can find the acceleration of the center of mass $\\vec{\\boldsymbol{a_{cm}}}$. This will be performed by deriving numerically the position of the center of mass twice. The numerical derivative of a function $f(t)$ with the samples $f(i)$ can be performed by taking the forward difference of the values $f(i)$:\n",
    "\n",
    "\\begin{equation}\n",
    "    \\frac{df}{dt}(i) = \\frac{f(i+1)-f(i)}{\\Delta t}\n",
    "\\end{equation}\n",
    "\n",
    "The numerical derivative could be obtained by taking the backward differences as well:\n",
    "\n",
    "\\begin{equation}\n",
    "    \\frac{df}{dt}(i) = \\frac{f(i)-f(i-1)}{\\Delta t}\n",
    "\\end{equation}\n",
    "\n",
    "A better estimation of the derivative of the time derivative of the function $f(t)$ would be obtained by the average value between the estimations using the backward and forward differences (this subject is treated [in this notebook about data filtering](DataFiltering.ipynb#numdiff)):\n",
    "\n",
    "\\begin{equation}\n",
    "    \\frac{df}{dt}(i) = \\frac{\\frac{f(i+1)-f(i)}{\\Delta t} + \\frac{f(i)-f(i-1)}{\\Delta t}}{2} = \\frac{f(i+1)-f(i-1)}{2\\Delta t} \n",
    "    \\label{eq:centralderiv}\n",
    "\\end{equation}\n",
    "\n",
    "\n",
    "So, the acceleration of the center of mass, is:"
   ]
  },
  {
   "cell_type": "code",
   "execution_count": 3,
   "metadata": {},
   "outputs": [],
   "source": [
    "dt = t[1]-t[0]\n",
    "\n",
    "rcm = m2\n",
    "vcm = (rcm[2:,:]-rcm[0:-2,:])/(2*dt)\n",
    "acm = (vcm[2:,:]-vcm[0:-2,:])/(2*dt)\n"
   ]
  },
  {
   "cell_type": "markdown",
   "metadata": {},
   "source": [
    "Now we can find the force $\\vec{\\boldsymbol{F_O}}$  using the Eq. \\eqref{eq:fnependulum}."
   ]
  },
  {
   "cell_type": "code",
   "execution_count": 4,
   "metadata": {},
   "outputs": [
    {
     "data": {
      "image/png": "[encoded data removed]",
      "text/plain": [
       "<Figure size 432x288 with 1 Axes>"
      ]
     },
     "metadata": {},
     "output_type": "display_data"
    }
   ],
   "source": [
    "Fox = m*acm[:,0]\n",
    "Foy = m*acm[:,1]\n",
    "Foz = m*acm[:,2] + m*g\n",
    "Fo=np.hstack((Fox.reshape(-1,1),Foy.reshape(-1,1),Foz.reshape(-1,1)))\n",
    "\n",
    "plt.figure()\n",
    "plt.plot(t[0:acm.shape[0]], Fox)\n",
    "plt.plot(t[0:acm.shape[0]], Foy,'--')\n",
    "plt.plot(t[0:acm.shape[0]], Foz)\n",
    "plt.legend(('x','y','z'))\n",
    "plt.show()\n"
   ]
  },
  {
   "cell_type": "markdown",
   "metadata": {},
   "source": [
    "Now, to find the moment being applied to the body, we need to compute a basis attached to the body"
   ]
  },
  {
   "cell_type": "code",
   "execution_count": 5,
   "metadata": {},
   "outputs": [],
   "source": [
    "e1 = m2 - m1\n",
    "e1 = e1/np.linalg.norm(e1,axis=1,keepdims=True)\n",
    "\n",
    "e2 = m3-m2\n",
    "e2 = e2/np.linalg.norm(e2,axis=1,keepdims=True)\n",
    "\n",
    "e3 = np.cross(e1,e2,axis=1)\n",
    "e3 = e3/np.linalg.norm(e3,axis=1,keepdims=True)\n",
    "\n",
    "e2 = np.cross(e3,e1, axis=1)\n",
    "e2 = e2/np.linalg.norm(e2,axis=1,keepdims=True)\n",
    "\n"
   ]
  },
  {
   "cell_type": "markdown",
   "metadata": {},
   "source": [
    " To compute the moment applied to the body, we need the angular velocity described in the basis attached to the body. The easies way to perform find this angular velocity is to use Eq. \\eqref{eq:angvel}. To do this we need the derivatives of the basis versors. This will also be performed with Eq. \\eqref{eq:centralderiv}:"
   ]
  },
  {
   "cell_type": "code",
   "execution_count": 6,
   "metadata": {},
   "outputs": [],
   "source": [
    "de1dt = (e1[2:,:]-e1[0:-2,:])/(2*dt)\n",
    "de2dt = (e2[2:,:]-e2[0:-2,:])/(2*dt)\n",
    "de3dt = (e3[2:,:]-e3[0:-2,:])/(2*dt)\n",
    "\n",
    "omega = np.hstack((np.sum(de2dt*e3[1:-1,:], axis = 1).reshape(-1,1),\n",
    "                   np.sum(de3dt*e1[1:-1,:], axis = 1).reshape(-1,1),\n",
    "                   np.sum(de1dt*e2[1:-1,:], axis = 1).reshape(-1,1)))\n"
   ]
  },
  {
   "cell_type": "markdown",
   "metadata": {},
   "source": [
    "From the angular velocity vector we can obtain the derivatives of each component of it, also needed to compute the moment applied to the body. To do this we will use Eq. \\eqref{eq:centralderiv}:"
   ]
  },
  {
   "cell_type": "code",
   "execution_count": 7,
   "metadata": {},
   "outputs": [],
   "source": [
    "alpha = (omega[2:,:]-omega[0:-2,:])/(2*dt)\n"
   ]
  },
  {
   "cell_type": "markdown",
   "metadata": {},
   "source": [
    "It remains to find the moment caused by the force $\\vec{\\boldsymbol{F_O}}$, $\\vec{\\boldsymbol{MFocm}} = \\vec{\\boldsymbol{r_{O/cm}}} \\times \\vec{\\boldsymbol{F_O}}$. The moment-arm $\\vec{\\boldsymbol{r_{O/cm}}} =-\\vec{\\boldsymbol{r_{cm}}}$."
   ]
  },
  {
   "cell_type": "code",
   "execution_count": 8,
   "metadata": {},
   "outputs": [],
   "source": [
    "MFocm = np.cross(-rcm[2:-2], Fo, axis = 1)"
   ]
  },
  {
   "cell_type": "markdown",
   "metadata": {},
   "source": [
    "The problem is that this moment is in the global basis. We need to transform it to the local basis. This will be performed using the rotation matrix of the bar. Each row of this matrix is one of the basis versors. Note that at each instant the matrix of rotation $R$ will be different.  After the matrix is formed, we can find the components of the moment $\\vec{\\boldsymbol{MFocm}}$ in the local basis by multiplying the matrix of rotation $R$ by the vector $\\vec{\\boldsymbol{MFocm}}$."
   ]
  },
  {
   "cell_type": "code",
   "execution_count": 9,
   "metadata": {},
   "outputs": [],
   "source": [
    "MFocmRotated = np.zeros_like(MFocm)\n",
    "for i in range(MFocm.shape[0]):\n",
    "    R = np.vstack((e1[i,:],e2[i,:],e3[i,:]))\n",
    "    MFocmRotated[i,:]=R@MFocm[i,:]\n"
   ]
  },
  {
   "cell_type": "code",
   "execution_count": 10,
   "metadata": {},
   "outputs": [
    {
     "data": {
      "image/png": "[encoded data removed]",
      "text/plain": [
       "<Figure size 432x288 with 1 Axes>"
      ]
     },
     "metadata": {},
     "output_type": "display_data"
    }
   ],
   "source": [
    "Mo1 = I1*alpha[:,0] + omega[0:alpha.shape[0],1]*omega[0:alpha.shape[0],2]*(I3-I2) - MFocmRotated[:,0]\n",
    "Mo2 = I2*alpha[:,1] + omega[0:alpha.shape[0],0]*omega[0:alpha.shape[0],2]*(I1-I3) - MFocmRotated[:,1]\n",
    "Mo3 = I3*alpha[:,2] + omega[0:alpha.shape[0],0]*omega[0:alpha.shape[0],1]*(I2-I1) - MFocmRotated[:,2]\n",
    "plt.figure()\n",
    "plt.plot(t[2:-2], Mo1)\n",
    "plt.plot(t[2:-2], Mo2)\n",
    "plt.plot(t[2:-2], Mo3)\n",
    "plt.legend(('$e_1$','$e_2$','$e_3$'))\n",
    "plt.show()"
   ]
  },
  {
   "cell_type": "markdown",
   "metadata": {},
   "source": [
    "We could also have used the vectorial form of the derivative of the angular momentum (Eq. \\eqref{eq:derivangmomVec}) and instead of writing three lines of code, write only one. The result is the same."
   ]
  },
  {
   "cell_type": "code",
   "execution_count": 11,
   "metadata": {},
   "outputs": [
    {
     "data": {
      "image/png": "[encoded data removed]",
      "text/plain": [
       "<Figure size 432x288 with 1 Axes>"
      ]
     },
     "metadata": {},
     "output_type": "display_data"
    }
   ],
   "source": [
    "I = np.array([[I1,0,0],[0,I2,0],[0,0,I3]])\n",
    "Mo = (I@alpha.T).T  + np.cross(omega[0:alpha.shape[0],:], (I@omega[0:alpha.shape[0],:].T).T,axis=1) - MFocmRotated\n",
    "plt.figure()\n",
    "plt.plot(t[2:-2], Mo)\n",
    "plt.legend(('$e_1$','$e_2$','$e_3$'))\n",
    "plt.show()"
   ]
  },
  {
   "cell_type": "markdown",
   "metadata": {},
   "source": [
    "## 2 ) Data from postural control\n",
    "\n",
    "This example will use real data from a subject during quiet standing during 60 seconds. This data is from the database freely available at [https://github.com/demotu/datasets/tree/master/PDS](https://github.com/demotu/datasets/tree/master/PDS). The data of this subject is in the file '../data/postureData.txt'.\n",
    "\n",
    "The mass of the subject was $m = 53$ kg and her height was $h= 1.65 $ m. \n",
    "\n",
    "\n",
    "   The free-body diagram is very similar to the free-body diagram shown [in the notebook about free-body diagram](FreeBodyDiagramForRigidBodies.ipynb#quietstanding), except that the force $\\vec{\\boldsymbol{F_A}}$ and the moment $\\vec{\\boldsymbol{M_A}}$ have components at all 3 directions. \n",
    "   \n",
    "   So, the first Newton-Euler law, at each component of the global  basis, is written as (note that in these data, the vertical direction is the y coordinate):\n",
    "\n",
    "\\begin{align}\n",
    "    \\begin{split}\n",
    "        F_{A_x} &=  ma_{cm_x} &\\rightarrow  F_{O_x} &=  ma_{cm_x} \\\\\n",
    "        F_{A_y}  - mg &= ma_{cm_y} &\\rightarrow  F_{O_y} &=  ma_{cm_y} + mg\\\\\n",
    "        F_{A_z} &= ma_{cm_z} &\\rightarrow  F_{O_z} &=  ma_{cm_z} \n",
    "    \\end{split}\n",
    "    \\label{eq:fnequiet}\n",
    "\\end{align}\n",
    "\n",
    "Now, the resultant moment applied to the body, computed relative to the center of mass, is:\n",
    "\n",
    "\\begin{equation}\n",
    "    \\vec{\\boldsymbol{M}} = \\vec{\\boldsymbol{M_A}} + \\vec{\\boldsymbol{r_{A/cm}}} \\times \\vec{\\boldsymbol{F_A}}\n",
    "\\end{equation}\n",
    "\n",
    "So, the second Newton-Euler law, at each of the components at the local basis of the body, is written as:\n",
    "\n",
    "\\begin{align}\n",
    "    \\begin{split}\n",
    "        \\vec{\\boldsymbol{M_A}} + \\vec{\\boldsymbol{MFacm}} &= I\\left[\\begin{array}{c}\\dot{\\omega_1}\\\\\\dot{\\omega_2}\\\\\\dot{\\omega_3}\\end{array}\\right] + \\vec{\\boldsymbol{\\omega}}\\times  I\\vec{\\boldsymbol{\\omega}} \\rightarrow \\vec{\\boldsymbol{M_A}} = I\\left[\\begin{array}{c}\\dot{\\omega_1}\\\\\\dot{\\omega_2}\\\\\\dot{\\omega_3}\\end{array}\\right] + \\vec{\\boldsymbol{\\omega}} \\times  I\\vec{\\boldsymbol{\\omega}}- \\vec{\\boldsymbol{MFacm}}      \n",
    "    \\end{split}\n",
    "\\end{align}\n",
    "where  $\\vec{\\boldsymbol{MFAcm}} = \\vec{\\boldsymbol{r_{A/cm}}} \\times \\vec{\\boldsymbol{F_A}}$.\n",
    "\n",
    "Now we open the data and assign the coordinates of each marker to a variable. "
   ]
  },
  {
   "cell_type": "code",
   "execution_count": 12,
   "metadata": {},
   "outputs": [],
   "source": [
    "data = np.loadtxt('../data/postureData.txt', skiprows=1, delimiter = ',')\n",
    "\n",
    "t = data[:,0]\n",
    "dt = t[1]-t[2]\n",
    "rcm = data[:,1:4] #center of mass\n",
    "rrA = data[:,4:7] # Right lateral malleolus\n",
    "rlA = data[:,7:] # Left lateral maleolus\n"
   ]
  },
  {
   "cell_type": "markdown",
   "metadata": {},
   "source": [
    " The body will be approximated by a cylinder with the height of the subject and radius equal to half of the mean distances between the right and left medial malleoli."
   ]
  },
  {
   "cell_type": "code",
   "execution_count": 13,
   "metadata": {},
   "outputs": [],
   "source": [
    "m = 53\n",
    "h = 1.65\n",
    "r = np.mean(np.linalg.norm(rrA-rlA, axis = 1))/2\n",
    "I1 = m*r**2/12 # longitudnal\n",
    "I2 = m*(3*r**2+h**2)/12 # sagittal\n",
    "I3 = I2 # transversal\n"
   ]
  },
  {
   "cell_type": "code",
   "execution_count": 14,
   "metadata": {},
   "outputs": [],
   "source": [
    "# acceleration of the center of mass by deriving the center of mass twice\n",
    "vcm = (rcm[2:,:]-rcm[0:-2,:])/(2*dt)\n",
    "acm = (vcm[2:,:]-vcm[0:-2,:])/(2*dt)\n",
    "\n",
    "FAx = m*acm[:,0]\n",
    "FAy = m*acm[:,1] + m*g\n",
    "FAz = m*acm[:,2] \n",
    "FA=np.hstack((FAx.reshape(-1,1),FAy.reshape(-1,1),FAz.reshape(-1,1)))\n",
    "\n"
   ]
  },
  {
   "cell_type": "markdown",
   "metadata": {},
   "source": [
    "Now we form the basis attached to the body. The first versor $\\hat{\\boldsymbol{e_1}}$ will be a versor from the midpoint between the medial malleoli and the center of mass of the body. The second versor $\\hat{\\boldsymbol{e_2}}$ will be a versor from  the right to the left malleolus. The third versor $\\hat{\\boldsymbol{e_3}}$ will be a cross product between $\\hat{\\boldsymbol{e_1}}$ and $\\hat{\\boldsymbol{e_2}}$."
   ]
  },
  {
   "cell_type": "code",
   "execution_count": 20,
   "metadata": {},
   "outputs": [],
   "source": [
    "e1 = rcm - (rlA+rrA)/2\n",
    "e1 = e1/np.linalg.norm(e1,axis=1,keepdims=True)\n",
    "\n",
    "e2 = rlA-rrA\n",
    "e2 = e2/np.linalg.norm(e2,axis=1,keepdims=True)\n",
    "\n",
    "e3 = np.cross(e1,e2,axis=1)\n",
    "e3 = e3/np.linalg.norm(e3,axis=1,keepdims=True)\n",
    "\n",
    "e2 = np.cross(e3,e1, axis=1)\n",
    "e2 = e2/np.linalg.norm(e2,axis=1,keepdims=True)\n"
   ]
  },
  {
   "cell_type": "markdown",
   "metadata": {},
   "source": [
    "Now we can find the angular velocity $\\vec{\\boldsymbol{\\omega}}$ at the basis attached to the body using Eq.\\eqref{eq:angvel} and the time derivatives of its components."
   ]
  },
  {
   "cell_type": "code",
   "execution_count": 21,
   "metadata": {},
   "outputs": [],
   "source": [
    "de1dt = (e1[2:,:]-e1[0:-2,:])/(2*dt)\n",
    "de2dt = (e2[2:,:]-e2[0:-2,:])/(2*dt)\n",
    "de3dt = (e3[2:,:]-e3[0:-2,:])/(2*dt)\n",
    "\n",
    "omega = np.hstack((np.sum(de2dt*e3[1:-1,:], axis = 1).reshape(-1,1),\n",
    "                   np.sum(de3dt*e1[1:-1,:], axis = 1).reshape(-1,1),\n",
    "                   np.sum(de1dt*e2[1:-1,:], axis = 1).reshape(-1,1)))\n",
    "\n",
    "alpha = (omega[2:,:]-omega[0:-2,:])/(2*dt)\n"
   ]
  },
  {
   "cell_type": "markdown",
   "metadata": {},
   "source": [
    "Now we need to find the moment caused by the force at the ankles $\\vec{\\boldsymbol{F_A}}$, $\\vec{\\boldsymbol{MFAcm}} = \\vec{\\boldsymbol{r_{A/cm}}} \\times \\vec{\\boldsymbol{F_A}}$. The moment-arm $\\vec{\\boldsymbol{r_{A/cm}}}$ is the vector from the center of mass to the midpoint of the lateral malleoli. \n",
    "\n",
    "Besides the description of the moment due to the force $\\vec{\\boldsymbol{F_A}}$ in the basis attached to the body, we will also describe the force $\\vec{\\boldsymbol{F_A}}$ at the local basis. This is useful because it has an anatomical meaning. After this we can use the equations of Newton-Euler to obtain the moment at the ankle. \n",
    "\n",
    "After having all signals described in the basis of the body, the moment being applied by the muscles of the ankle is computed using Eq. \\eqref{eq:derivangmomVec}."
   ]
  },
  {
   "cell_type": "code",
   "execution_count": 22,
   "metadata": {},
   "outputs": [
    {
     "data": {
      "image/png": "[encoded data removed]",
      "text/plain": [
       "<Figure size 432x288 with 1 Axes>"
      ]
     },
     "metadata": {},
     "output_type": "display_data"
    },
    {
     "data": {
      "image/png": "[encoded data removed]",
      "text/plain": [
       "<Figure size 432x288 with 1 Axes>"
      ]
     },
     "metadata": {},
     "output_type": "display_data"
    }
   ],
   "source": [
    "\n",
    "#computing the moment due to the ankle force\n",
    "racm = (rlA+rrA)/2-rcm\n",
    "MFAcm = np.cross(racm[0:FA.shape[0],:], FA, axis =1)\n",
    "\n",
    "\n",
    "MFAcmRotated = np.zeros_like(MFAcm)\n",
    "FARotated = np.zeros_like(MFAcm)\n",
    "\n",
    "\n",
    "# rotation matrix and description of the ankle force and moment due to the ankle force \n",
    "for i in range(MFAcm.shape[0]):\n",
    "    R = np.vstack((e1[i,:],e2[i,:],e3[i,:]))\n",
    "    MFAcmRotated[i,:]=R@MFAcm[i,:]\n",
    "    FARotated[i,:]=R@FA[i,:]\n",
    "    \n",
    "# Second Newton-Euler law to obtain the ankle moment    \n",
    "    \n",
    "I = np.array([[I1,0,0],[0,I2,0],[0,0,I3]])\n",
    "MA = (I@alpha.T).T  + np.cross(omega[0:alpha.shape[0],:], (I@omega[0:alpha.shape[0],:].T).T,axis=1) - MFAcmRotated\n",
    "\n",
    "\n",
    "plt.figure()\n",
    "plt.plot(t[2:-2], MA)\n",
    "plt.legend(('longitudinal','sagittal','mediolateral'))\n",
    "plt.title('Ankle Torque')\n",
    "plt.xlabel('t (s)')\n",
    "plt.ylabel('M (N.m)')\n",
    "\n",
    "plt.show()\n",
    "\n",
    "plt.figure()\n",
    "plt.plot(t[2:-2], FARotated[:,0])\n",
    "plt.plot(t[2:-2], FARotated[:,1])\n",
    "plt.plot(t[2:-2], FARotated[:,2])\n",
    "plt.title('Ankle Force')\n",
    "plt.legend(('longitudinal','sagittal','mediolateral'))\n",
    "plt.xlabel('t (s)')\n",
    "plt.ylabel('F (N)')\n",
    "plt.show()"
   ]
  },
  {
   "cell_type": "markdown",
   "metadata": {},
   "source": [
    "## Problems\n"
   ]
  },
  {
   "cell_type": "markdown",
   "metadata": {},
   "source": [
    "Compute the derivative of the angular momentum of the foot and the leg using one of  the following data acquired during the gait of a subject: '../data/BiomecII2018_gait_d.txt' or '../data/BiomecII2018_gait_n.txt'. "
   ]
  },
  {
   "cell_type": "markdown",
   "metadata": {},
   "source": [
    "## References\n",
    "\n",
    "- Beer, F P; Johnston, E R; Cornwell, P. J.(2010) Vector Mechanics for Enginners: Dynamics. \n",
    "- Kane T, Levinson D (1985) [Dynamics: Theory and Applications](https://ecommons.cornell.edu/handle/1813/638). McGraw-Hill, Inc\n",
    "- Hibbeler, R. C. (2005) Engineering Mechanics: Dynamics. \n",
    "- Taylor, J, R (2005) Classical Mechanics\n",
    "- Winter D. A., (2009) Biomechanics and motor control of human movement. John Wiley and Sons.\n",
    "- Santos DA, Fukuchi CA, Fukuchi RK, Duarte M. (2017) A data set with kinematic and ground reaction forces of human balance. PeerJ Preprints."
   ]
  },
  {
   "cell_type": "code",
   "execution_count": null,
   "metadata": {},
   "outputs": [],
   "source": []
  }
 ],
 "metadata": {
  "cite2c": {
   "citations": {
    "5991067/3ZN8DZGT": {
     "author": [
      {
       "family": "Kane",
       "given": "Thomas R."
      },
      {
       "family": "Levinson",
       "given": "David A."
      }
     ],
     "container-title": "McGraw-Hill series in mechanical engineering",
     "id": "5991067/3ZN8DZGT",
     "issued": {
      "year": 1985
     },
     "page": "xv, 379 p",
     "page-first": "xv",
     "title": "Dynamics, theory and applications",
     "type": "article-journal"
    },
    "5991067/TJ33RISS": {
     "author": [
      {
       "family": "Ruina",
       "given": "Andy"
      },
      {
       "family": "Pratap",
       "given": "Rudra"
      }
     ],
     "id": "5991067/TJ33RISS",
     "issued": {
      "year": 2015
     },
     "publisher": "Oxford University Press",
     "title": "Introduction to statics and dynamics",
     "type": "book"
    }
   }
  },
  "kernelspec": {
   "display_name": "Python 3",
   "language": "python",
   "name": "python3"
  },
  "language_info": {
   "codemirror_mode": {
    "name": "ipython",
    "version": 3
   },
   "file_extension": ".py",
   "mimetype": "text/x-python",
   "name": "python",
   "nbconvert_exporter": "python",
   "pygments_lexer": "ipython3",
   "version": "3.6.5"
  }
 },
 "nbformat": 4,
 "nbformat_minor": 2
}
