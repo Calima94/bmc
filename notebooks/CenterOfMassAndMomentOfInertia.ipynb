{
 "cells": [
  {
   "cell_type": "markdown",
   "metadata": {},
   "source": [
    "# Center of Mass and Moment of Inertia\n",
    "Renato Naville Watanabe"
   ]
  },
  {
   "cell_type": "code",
   "execution_count": 1,
   "metadata": {
    "collapsed": true
   },
   "outputs": [],
   "source": [
    "import numpy as np\n",
    "import sympy as sym"
   ]
  },
  {
   "cell_type": "markdown",
   "metadata": {},
   "source": [
    "### Center of mass\n",
    "\n",
    "The center of mass of a set of particles is formally defined as the point where the sum of the vectors linking this point to each particle, weighted by its mass, is zero.\n",
    "\n",
    "<figure><img src=\"../images/cmparticles.png\\\" width=500 />\n",
    "\n",
    " The sum of the vectors linking the center of mass to each particle is:\n",
    "\n",
    "\\begin{equation}\n",
    "  \\sum\\limits_{i = 1}^nm_i{\\bf\\vec{r_{i/cm}}}= \\sum\\limits_{i = 1}^nm_i\\left({\\bf\\vec{r_i}} - {\\bf\\vec{r}_{cm}}\\right) = \\sum\\limits_{i = 1}^nm_i{\\bf\\vec{r_i}} - \\sum\\limits_{i = 1}^nm_i{\\bf\\vec{r}_{cm}} = \\sum\\limits_{i = 1}^nm_i{\\bf\\vec{r_i}} - {\\bf\\vec{r}_{cm}}\\sum\\limits_{i = 1}^nm_i\n",
    "\\end{equation}\n",
    "where $n$ is the number of particles.\n",
    "\n",
    "Now, we equal this sum to zero and isolate ${\\bf\\vec{r_{cm}}}$:\n",
    "\n",
    "\\begin{equation}\n",
    "     \\sum\\limits_{i = 1}^nm_i{\\bf\\vec{r_i}} - {\\bf\\vec{r}_{cm}}\\sum\\limits_{i = 1}^nm_i = 0 \\longrightarrow {\\bf\\vec{r}_{cm}} = \\frac{\\sum\\limits_{i = 1}^nm_i{\\bf\\vec{r_i}}}{\\sum\\limits_{i = 1}^nm_i}  = \\frac{\\sum\\limits_{i = 1}^nm_i{\\bf\\vec{r_i}}}{m_T}\n",
    "\\end{equation}\n",
    "\n",
    "where $m_T$ is the total mass of the particles."
   ]
  },
  {
   "cell_type": "markdown",
   "metadata": {},
   "source": [
    "#### Center of mass of two particles"
   ]
  },
  {
   "cell_type": "markdown",
   "metadata": {},
   "source": [
    "For a rigid body, the center of mass is defined as the point where the integral of the vectors  linking this point to each differential part of mass, weighted by this differential mass, is zero. \n",
    "\n",
    "<figure><img src=\"../images/cmbody.png\\\" width=500 />\n",
    "\n",
    "This integral is:\n",
    "\n",
    "\\begin{equation}\n",
    "    \\int\\limits_{B} {\\bf{\\vec{r}_{/cm}}} dm = \\int\\limits_{B} {\\bf{\\vec{r}}} - {\\bf{\\vec{r}_{cm}}}  dm = \\int\\limits_{B} {\\bf{\\vec{r}}}\\,dm - \\int\\limits_{B}{\\bf{\\vec{r}_{cm}}}  dm = \\int\\limits_{B} {\\bf{\\vec{r}}}\\,dm - {\\bf{\\vec{r}_{cm}}}\\int\\limits_{B}\\, dm\n",
    "\\end{equation}\n",
    "\n",
    "Now we equal this integral to zero and isolate ${\\bf\\vec{r_{cm}}}$:\n",
    "\n",
    "\\begin{equation}\n",
    "    \\int\\limits_{B} {\\bf{\\vec{r}}}\\,dm - {\\bf{\\vec{r}_{cm}}}\\int\\limits_{B}\\, dm  = 0 \\longrightarrow  {\\bf{\\vec{r}_{cm}}} = \\frac{ \\int\\limits_{B} {\\bf{\\vec{r}}}\\,dm}{\\int\\limits_{B}\\, dm}  = \\frac{ \\int\\limits_{B} {\\bf{\\vec{r}}}\\,dm}{m_B}\n",
    "    \\label{eq:cm}\n",
    "\\end{equation}\n",
    "where $m_B$ is the mass of the body."
   ]
  },
  {
   "cell_type": "code",
   "execution_count": null,
   "metadata": {
    "collapsed": true
   },
   "outputs": [],
   "source": []
  },
  {
   "cell_type": "markdown",
   "metadata": {},
   "source": [
    "### Center of gravity\n",
    "\n",
    "Center of gravity of a body is the point where the moment caused by the gravitational force in the whole body relative to this point is zero.\n",
    "\n",
    "\\begin{equation}\n",
    "    \\vec{\\bf{M_0}} = \\int\\limits_{B}  \\vec{\\bf{r_B}}\\, \\times\\,\\vec{\\bf{g}}\\,dm \n",
    "\\end{equation}\n",
    "\n",
    "If the acceleration of gravity being applied to the whole body is the same (for all practical purposes, in Biomechanics we can consider it the same in the whole body), the gravity vector can go out of the integral:  \n",
    "\n",
    "\\begin{equation}\n",
    "  \\vec{\\bf{M_0}}= \\int\\limits_{B}\\vec{\\bf{r_B}}\\,dm\\, \\times\\,\\vec{\\bf{g}} =  \\int\\limits_{B}(\\vec{\\bf{r}} - \\vec{\\bf{r_{cm}}})\\,dm\\, \\times\\,\\vec{\\bf{g}} =  \\left(\\int\\limits_{B}\\vec{\\bf{r}}\\,dm -\\int\\limits_{B}\\vec{\\bf{r_{G}}}\\,dm\\,\\right) \\times\\,\\vec{\\bf{g}}\n",
    "\\end{equation}\n",
    "\n",
    "\n",
    "Now, we equal this moment to zero and isolate $\\vec{\\bf{r_{G}}}$:\n",
    "\n",
    "\\begin{equation}\n",
    "            \\left(\\int\\limits_{B}\\vec{\\bf{r}}\\,dm -\\int\\limits_{B}\\vec{\\bf{r_{G}}}\\,dm\\right) \\times\\,\\vec{\\bf{g}} = 0 \\longrightarrow \\int\\limits_{B}\\vec{\\bf{r}}\\,dm -\\int\\limits_{B}\\vec{\\bf{r_{G}}}\\,dm = 0 \\longrightarrow \\int\\limits_{B}\\vec{\\bf{r}}\\,dm -\\vec{\\bf{r_{G}}}\\int\\limits_{B}\\,dm = 0\\,\\,\\,\\,\\,\\, \\longrightarrow \\vec{\\bf{r_{G}}} = \\frac{ \\int\\limits_{B}\\vec{\\bf{r}}\\,dm}{\\int\\limits_{B}\\,dm} = \\frac{ \\int\\limits_{B}\\vec{\\bf{r}}\\,dm}{m_B}  \n",
    "\\end{equation}\n",
    "where $m_B$ is the mass of the body.\n",
    "\n",
    "Note that in this case, that the gravity acceleration is constant, the center of gravity $\\vec{\\bf{r_{G}}}$ is equal to the center of mass $\\vec{\\bf{r_{cm}}}$."
   ]
  },
  {
   "cell_type": "markdown",
   "metadata": {
    "collapsed": true
   },
   "source": [
    "### Geometric center\n",
    "\n",
    "For a rigid body, the geometric center is defined as the point where the integral of the vectors  linking this point to each differential part of mass is zero. It \n",
    "\n",
    "This integral is:\n",
    "\n",
    "\\begin{equation}\n",
    "    \\int\\limits_{B} {\\bf{\\vec{r}_{/cm}}} dV = \\int\\limits_{B} {\\bf{\\vec{r}}} - {\\bf{\\vec{r}_{cm}}}  dV = \\int\\limits_{B} {\\bf{\\vec{r}}}\\,dV - \\int\\limits_{B}{\\bf{\\vec{r}_{cm}}}  dV = \\int\\limits_{B} {\\bf{\\vec{r}}}\\,dV - {\\bf{\\vec{r}_{cm}}}\\int\\limits_{B}\\, dV\n",
    "\\end{equation}\n",
    "\n",
    "Now we equal this integral to zero and isolate ${\\bf\\vec{r_{cm}}}$:\n",
    "\n",
    "\\begin{equation}\n",
    "    \\int\\limits_{B} {\\bf{\\vec{r}}}\\,dm - {\\bf{\\vec{r}_{cm}}}\\int\\limits_{B}\\, dm  = 0 \\longrightarrow  {\\bf{\\vec{r}_{cm}}} = \\frac{ \\int\\limits_{B} {\\bf{\\vec{r}}}\\,dm}{\\int\\limits_{B}\\, dm}  = \\frac{ \\int\\limits_{B} {\\bf{\\vec{r}}}\\,dm}{m_B}\n",
    "    \\label{eq:gc}\n",
    "\\end{equation}\n",
    "where $m_B$ is the mass of the body."
   ]
  },
  {
   "cell_type": "markdown",
   "metadata": {},
   "source": [
    "### Center of mass of a complex system\n",
    "\n",
    "Now, we will consider a set of $n$ bodies. The center of mass of this set of bodies can be computed by integrating the Eq.~\\eqref{eq:cm} over all bodies:\n",
    "\n",
    "\\begin{equation}\n",
    "     \\vec{\\bf{r_{G}}} =  \\frac{ \\int\\limits_{B1,B2,...,Bn}\\vec{\\bf{r}}\\,dm}{m_{B1}+m_{B2}+... + m_{Bn}} =\\frac{\\int\\limits_{B1}\\vec{\\bf{r}}\\,dm+\\int\\limits_{B2}\\vec{\\bf{r}}\\,dm+...+\\int\\limits_{Bn}\\vec{\\bf{r}}\\,dm}{m_{B1}+m_{B2}+... + m_{Bn}} = \\frac{\\frac{\\int\\limits_{B1}\\vec{\\bf{r}}\\,dm}{m_{B1}}m_{B1} + \\frac{\\int\\limits_{B2}\\vec{\\bf{r}}\\,dm}{m_{B2}}m_{B2} +...+ \\frac{\\int\\limits_{Bn}\\vec{\\bf{r}}\\,dm}{m_{Bn}}m_{Bn}}{m_{B1}+m_{B2}+... + m_{Bn}}  = \\frac{\\vec{\\bf{r_{cm_1}}} m_{B1} + \\vec{\\bf{r_{cm_2}}}m_{B2} +...+ \\vec{\\bf{r_{cm_n}}}m_{Bn}}{m_{B1}+m_{B2}+... + m_{Bn}}=\\frac{\\vec{\\bf{r_{cm_1}}} m_{B1} + \\vec{\\bf{r_{cm_2}}}m_{B2} +...+ \\vec{\\bf{r_{cm_n}}}m_{Bn}}{m_T}\n",
    "\\end{equation}\n",
    "where $\\vec{\\bf{r_{cm_i}}}$ is  the center of mass of the body $i$, $m_{Bi}$ is the mass of the body $i$ and $m_T$ is the total mass of the bodies. The expression above shows that we can interpret each body as a particle with its mass and position. \n"
   ]
  },
  {
   "cell_type": "markdown",
   "metadata": {},
   "source": [
    "### Moment of inertia\n",
    "\n",
    "The moment of inertia is a measure of how the mass of the body distributes relative to a given axis passing to a given point O. In other words, the moment of inertia relative to a point O for an axis a is defined how far the mass of the body is from this axis. If we define the versor $\\hat{\\bf{n_a}}$ as a versor in the direction of the axis, this distance is the croo product between the vector linking the point O to each part of the body and this versor.\n",
    "\n",
    "<figure><img src=\"../images/inmombody.png\\\" width=500 />\n",
    "\n",
    "\n",
    "Considering that, the moment of inertia relative to the point O for the axis a is defined as:\n",
    " \n",
    "\\begin{equation}\n",
    "    J_{aa}^{O} = \\int\\limits_B (\\vec{\\bf{r_{/O}}} \\times \\hat{\\bf{n_a}}).(\\vec{\\bf{r_{/O}}} \\times \\hat{\\bf{n_a}})\\,dm   \n",
    "    \\label{eq:inmomgen}\n",
    "\\end{equation}\n",
    "\n",
    "For planar movements, we normally compute the moment of inertia relative to the z-axis. So, the Eq.~\\eqref{eq:inmomgen} simplifies to:\n",
    "\n",
    "\\begin{equation}\n",
    "    J_{zz}^O = \\int\\limits_B (\\vec{\\bf{r_{/O}}} \\times \\hat{\\bf{k}}).(\\vec{\\bf{r_{/O}}} \\times \\hat{\\bf{k}})\\,dm =  \\int\\limits_B \\left[(x_{/O}\\hat{\\bf{i}}+y_{/O}\\hat{\\bf{j}} +z_{/O}\\hat{\\bf{k}})\\times \\hat{\\bf{k}}\\right].\\left[(x_{/O}\\hat{\\bf{i}}+y_{/O}\\hat{\\bf{j}} +z_{/O}\\hat{\\bf{k}})\\times \\hat{\\bf{k}}\\right]\\,dm = \\int\\limits_B (-x_{/O}\\hat{\\bf{j}}+y_{/O}\\hat{\\bf{i}}).(-x_{/O}\\hat{\\bf{j}}+y_{/O}\\hat{\\bf{i}})\\,dm \\,\\,\\,\\,\\longrightarrow J_{zz}^O = \\int\\limits_B x_{/O}^2+y_{/O}^2\\,dm\n",
    "    \\label{eq:inmomzzo}\n",
    "\\end{equation}\n",
    "\n",
    "Frequently, the chosen point to compute the moment of inertia is the center of mass. So if we choose the point O as the center of mass, the Eq.~\\eqref{eq:inmomzzo} is written as:\n",
    "\n",
    "\\begin{equation}\n",
    "    J_{zz}^{cm} = \\int\\limits_B x_{/cm}^2+y_{/cm}^2\\,dm\n",
    "\\end{equation}"
   ]
  },
  {
   "cell_type": "markdown",
   "metadata": {},
   "source": [
    "As an example, we will compute \n",
    "\n",
    "<figure><img src=\"../images/cilinder.png\\\" width=500 />"
   ]
  },
  {
   "cell_type": "markdown",
   "metadata": {},
   "source": [
    "### Parallel axis theorem\n",
    "\n",
    "If we have computed the moment of inertia relative to the center of mass for an axis, for example the z-axis, and now  want to compute the moment of inertia relative to another point O for an axis parallel to the first, there is an expression to aid the computation of this moment of inertia. \n",
    "\n",
    "In the figure below, the axis is perpendicular to the figure plane.\n",
    "\n",
    "<figure><img src=\"../images/inmomparallel.png\\\" width=500 />\n",
    "\n",
    "The moment of inertia relative to the axis passing through the point O is given by:\n",
    "\n",
    "\\begin{equation}\n",
    "        J_{zz}^O = \\int\\limits_B x_{/O}^2+y_{/O}^2\\,dm = \\int\\limits_B (x_{/cm}+x_{cm/O})^2+(y_{/cm}+y_{cm/O})^2\\,dm = \\int\\limits_B x_{/cm}^2+2x_{/cm}x_{cm/O}+x_{cm/O}^2+y_{/cm}^2+2y_{/cm}y_{cm/O}+y_{cm/O}^2\\,dm =\\underbrace{\\int\\limits_B x_{/cm}^2+y_{/cm}^2\\,dm}_{J_{zz}^{cm}} +\\int\\limits_B 2x_{/cm}x_{cm/O}\\,dm+\\int\\limits_B x_{cm/O}^2+y_{cm/O}^2\\,dm + \\int\\limits_B 2y_{/cm}y_{cm/O}\\,dm = J_{zz}^{cm} +2x_{cm/O}\\underbrace{\\int\\limits_B x_{/cm}\\,dm}_{0}+\\underbrace{(x_{cm/O}^2+y_{cm/O}^2)}_{d^2}\\underbrace{\\int\\limits_B \\,dm}_{m_B} + 2y_{cm/O}\\underbrace{\\int\\limits_B y_{/cm}\\,dm}_{0} \\longrightarrow J_{zz}^{O} =  J_{zz}^{cm} + m_B.d^2\n",
    "\\end{equation}\n",
    "\n",
    "The terms $\\int\\limits_B x_{/cm}\\,dm$ and $\\int\\limits_B y_{/cm}\\,dm$ are equal to zero because of the definition of center of mass. The term $d$ is the distance between the two axes. Note that this theorem is valid only for parallel axes."
   ]
  },
  {
   "cell_type": "markdown",
   "metadata": {
    "collapsed": true
   },
   "source": [
    "### Moment of inertia of a complex system\n",
    "\n",
    "To compute the moment of inertia of a set o $n$ bodies relative to a point O for a given axis (for example, the z axis), we must apply the Eq.~\\eqref{eq:inmomzzo} for all bodies:\n",
    "\n",
    "\\begin{equation}\n",
    "    J_{zz}^{O} = \\int\\limits_{B1,B2,...,Bn} x_{/O}^2+y_{/O}^2\\,dm =  \\int\\limits_{B1} x_{/O}^2+y_{/O}^2\\,dm +\\int\\limits_{B2} x_{/O}^2+y_{/O}^2\\,dm +...+\\int\\limits_{Bn} x_{/O}^2+y_{/O}^2\\,dm\n",
    "\\end{equation}\n",
    "\n",
    "Now, using the parallel axis theorem, we can write the equation above in terms of the moment of inertia relative to the center of mass of each body:\n",
    "\n",
    "\\begin{equation}\n",
    "    J_{zz}^{O} =  J_{zz_{B1}}^{cm_1} + m_{B1}.||\\vec{\\bf{r_{cm_1/O}}}||^2 +J_{zz_{B2}}^{cm_2} + m_{B2}.||\\vec{\\bf{r_{cm_2/O}}}||^2  +...+J_{zz_{Bn}}^{cm_n} + m_{Bn}.||\\vec{\\bf{r_{cm_n/O}}}||^2 \n",
    "\\end{equation}\n",
    "where $J_{zz_{Bi}}^{cm_i}$ is the moment of inertia of the body $i$ relative to its center of mass.\n",
    "\n"
   ]
  },
  {
   "cell_type": "markdown",
   "metadata": {},
   "source": [
    "### Matrix of Inertia\n",
    "\n",
    "For 3D movements we must consider the moments of inertia inertia in the three directions besides three other quantities called products of inertia. A product of inertia is defined as in Eq.~\\eqref{eq:inmomgen}, but with each versor orthogonal to each other. So, the product of inertia relative to point O for axes a and b is:\n",
    "\n",
    "\n",
    "\\begin{equation}\n",
    "    J_{ab}^O= \\int\\limits_B  (\\vec{\\bf{r_{/O}}} \\times \\hat{\\bf{n_a}}).(\\vec{\\bf{r_{/O}}} \\times \\hat{\\bf{n_b}})\\,dm\n",
    "    \\label{eq:prodinmomgen}\n",
    "\\end{equation}\n",
    "\n",
    "Note that $J_{ab}^O$ is equal to $J_{ba}^O$.\n",
    "\n",
    "The matrix of inertia is defined as:\n",
    "\n",
    "\\begin{equation}\n",
    "    J^O = \\left[\\begin{array}{ccc}J_{xx}^O&J_{xy}^O&J_{xz}^O\\\\\n",
    "                                  J_{yx}^O&J_{yy}^O&J_{yz}^O\\\\\n",
    "                                  J_{zx}^O&J_{zy}^O&J_{zz}^O\\end{array}\\right]\n",
    "\\end{equation}\n",
    "\n",
    "where each term is defined as follows:\n",
    "\n",
    "\\begin{equation}\n",
    "    J_{xx}^O = \\int\\limits_B  (\\vec{\\bf{r_{/O}}} \\times \\hat{\\bf{i}}).(\\vec{\\bf{r_{/O}}} \\times \\hat{\\bf{i}})\\,dm = \\int\\limits_B  y_{/O}^2+z_{/O}^2\\,dm\n",
    "\\end{equation}\n",
    "\n",
    "\\begin{equation}\n",
    "    J_{yy}^O = \\int\\limits_B  (\\vec{\\bf{r_{/O}}} \\times \\hat{\\bf{j}}).(\\vec{\\bf{r_{/O}}} \\times \\hat{\\bf{j}})\\,dm = \\int\\limits_B  x_{/O}^2+z_{/O}^2\\,dm\n",
    "\\end{equation}\n",
    "\n",
    "\\begin{equation}\n",
    "    J_{zz}^O = \\int\\limits_B  (\\vec{\\bf{r_{/O}}} \\times \\hat{\\bf{k}}).(\\vec{\\bf{r_{/O}}} \\times \\hat{\\bf{k}})\\,dm = \\int\\limits_B  x_{/O}^2+y_{/O}^2\\,dm\n",
    "\\end{equation}\n",
    "\n",
    "\\begin{equation}\n",
    "    J_{xy}^O = J_{yx}^O =\\int\\limits_B  (\\vec{\\bf{r_{/O}}} \\times \\hat{\\bf{i}}).(\\vec{\\bf{r_{/O}}} \\times \\hat{\\bf{j}})\\,dm = \\int\\limits_B  \\left[(x_{/O}\\hat{\\bf{i}}+y_{/O}\\hat{\\bf{j}}+z_{/O}\\hat{\\bf{k}}) \\times \\hat{\\bf{i}}\\right].\\left[(x_{/O}\\hat{\\bf{i}}+y_{/O}\\hat{\\bf{j}}+z_{/O}\\hat{\\bf{k}}) \\times \\hat{\\bf{j}}\\right]\\,dm = \\int\\limits_B  (-y_{/O}\\hat{\\bf{k}}+z_{/O}\\hat{\\bf{j}}).(x_{/O}\\hat{\\bf{k}}-z_{/O}\\hat{\\bf{i}})\\,dm \\longrightarrow J_{xy}^O = \\int\\limits_B  - y_{/O}x_{/O}\\,dm \n",
    "\\end{equation}\n",
    "\n",
    "\\begin{equation}\n",
    "    J_{xz}^O = J_{zx}^O =\\int\\limits_B  (\\vec{\\bf{r_{/O}}} \\times \\hat{\\bf{i}}).(\\vec{\\bf{r_{/O}}} \\times \\hat{\\bf{k}})\\,dm = \\int\\limits_B  \\left[(x_{/O}\\hat{\\bf{i}}+y_{/O}\\hat{\\bf{j}}+z_{/O}\\hat{\\bf{k}}) \\times \\hat{\\bf{i}}\\right].\\left[(x_{/O}\\hat{\\bf{i}}+y_{/O}\\hat{\\bf{j}}+z_{/O}\\hat{\\bf{k}}) \\times \\hat{\\bf{k}}\\right]\\,dm = \\int\\limits_B  (-y_{/O}\\hat{\\bf{k}}+z_{/O}\\hat{\\bf{j}}).(-x_{/O}\\hat{\\bf{j}}+y_{/O}\\hat{\\bf{i}})\\,dm \\longrightarrow J_{xz}^O = \\int\\limits_B  - z_{/O}x_{/O}\\,dm \n",
    "\\end{equation}\n",
    "\n",
    "\\begin{equation}\n",
    "    J_{yz}^O = J_{zy}^O =\\int\\limits_B  (\\vec{\\bf{r_{/O}}} \\times \\hat{\\bf{j}}).(\\vec{\\bf{r_{/O}}} \\times \\hat{\\bf{k}})\\,dm = \\int\\limits_B  \\left[(x_{/O}\\hat{\\bf{i}}+y_{/O}\\hat{\\bf{j}}+z_{/O}\\hat{\\bf{k}}) \\times \\hat{\\bf{j}}\\right].\\left[(x_{/O}\\hat{\\bf{i}}+y_{/O}\\hat{\\bf{j}}+z_{/O}\\hat{\\bf{k}}) \\times \\hat{\\bf{k}}\\right]\\,dm = \\int\\limits_B  (x_{/O}\\hat{\\bf{k}}-z_{/O}\\hat{\\bf{i}}).(-x_{/O}\\hat{\\bf{j}}+y_{/O}\\hat{\\bf{i}})\\,dm \\longrightarrow J_{yz}^O = \\int\\limits_B  - z_{/O}y_{/O}\\,dm \n",
    "\\end{equation}\n"
   ]
  },
  {
   "cell_type": "markdown",
   "metadata": {},
   "source": []
  },
  {
   "cell_type": "markdown",
   "metadata": {},
   "source": [
    "### Problems\n",
    "3.2.5, 3.2.7, "
   ]
  },
  {
   "cell_type": "code",
   "execution_count": null,
   "metadata": {
    "collapsed": true
   },
   "outputs": [],
   "source": []
  }
 ],
 "metadata": {
  "celltoolbar": "Raw Cell Format",
  "kernelspec": {
   "display_name": "Python 3",
   "language": "python",
   "name": "python3"
  },
  "language_info": {
   "codemirror_mode": {
    "name": "ipython",
    "version": 3
   },
   "file_extension": ".py",
   "mimetype": "text/x-python",
   "name": "python",
   "nbconvert_exporter": "python",
   "pygments_lexer": "ipython3",
   "version": "3.6.3"
  }
 },
 "nbformat": 4,
 "nbformat_minor": 2
}
