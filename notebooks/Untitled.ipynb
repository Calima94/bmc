{
 "cells": [
  {
   "cell_type": "code",
   "execution_count": 20,
   "metadata": {
    "collapsed": true
   },
   "outputs": [],
   "source": [
    "import sympy as sym\n",
    "sym.init_printing()"
   ]
  },
  {
   "cell_type": "code",
   "execution_count": 27,
   "metadata": {
    "collapsed": true
   },
   "outputs": [],
   "source": [
    "x,y,z = sym.symbols('x,y,z')\n",
    "R, h, rho, m = sym.symbols('R, h, rho, m')"
   ]
  },
  {
   "cell_type": "code",
   "execution_count": 28,
   "metadata": {},
   "outputs": [],
   "source": [
    "int1 = sym.integrate(rho*(z**2+y**2), (y, -sym.sqrt(R**2-x**2), sym.sqrt(R**2-x**2)))"
   ]
  },
  {
   "cell_type": "code",
   "execution_count": 33,
   "metadata": {},
   "outputs": [
    {
     "data": {
      "image/png": "[encoded data removed]",
      "text/latex": [
       "$$\\frac{\\pi \\rho}{4} R^{4} + \\pi R^{2} \\rho z^{2}$$"
      ],
      "text/plain": [
       "   4              \n",
       "π⋅R ⋅ρ      2    2\n",
       "────── + π⋅R ⋅ρ⋅z \n",
       "  4               "
      ]
     },
     "execution_count": 33,
     "metadata": {},
     "output_type": "execute_result"
    }
   ],
   "source": [
    "int2 = sym.integrate(int1,(x,-R,R))\n",
    "int2"
   ]
  },
  {
   "cell_type": "code",
   "execution_count": 35,
   "metadata": {},
   "outputs": [
    {
     "data": {
      "image/png": "[encoded data removed]",
      "text/latex": [
       "$$\\frac{m}{12} \\left(3 R^{2} + h^{2}\\right)$$"
      ],
      "text/plain": [
       "  ⎛   2    2⎞\n",
       "m⋅⎝3⋅R  + h ⎠\n",
       "─────────────\n",
       "      12     "
      ]
     },
     "execution_count": 35,
     "metadata": {},
     "output_type": "execute_result"
    }
   ],
   "source": [
    "sym.simplify(sym.integrate(int2, (z, -h/2, h/2))/(rho*sym.pi*R**2*h)*m)"
   ]
  },
  {
   "cell_type": "code",
   "execution_count": null,
   "metadata": {
    "collapsed": true
   },
   "outputs": [],
   "source": []
  }
 ],
 "metadata": {
  "kernelspec": {
   "display_name": "Python 3",
   "language": "python",
   "name": "python3"
  },
  "language_info": {
   "codemirror_mode": {
    "name": "ipython",
    "version": 3
   },
   "file_extension": ".py",
   "mimetype": "text/x-python",
   "name": "python",
   "nbconvert_exporter": "python",
   "pygments_lexer": "ipython3",
   "version": "3.6.3"
  }
 },
 "nbformat": 4,
 "nbformat_minor": 2
}
