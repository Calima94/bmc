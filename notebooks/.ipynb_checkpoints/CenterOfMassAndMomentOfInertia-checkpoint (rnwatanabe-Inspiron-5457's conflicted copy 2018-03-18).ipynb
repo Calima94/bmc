{
 "cells": [
  {
   "cell_type": "markdown",
   "metadata": {},
   "source": [
    "# Center of Mass and Moment of Inertia\n",
    "Renato Naville Watanabe"
   ]
  },
  {
   "cell_type": "markdown",
   "metadata": {},
   "source": [
    "### Center of mass\n",
    "\n",
    "The center of mass of a set of particles is formally defined as the point where the sum of the vectors linking this point to each particle, weighted by its mass, is zero. The sum of the vectors linking the center of mass to each particle is:\n",
    "\n",
    "\\begin{equation}\n",
    "   \\sum\\limits_{i = 1}^nm_i\\left({\\bf\\vec{r_i}} - {\\bf\\vec{r}_{cm}}\\right) = \\sum\\limits_{i = 1}^nm_i{\\bf\\vec{r_i}} - \\sum\\limits_{i = 1}^nm_i{\\bf\\vec{r}_{cm}} = \\sum\\limits_{i = 1}^nm_i{\\bf\\vec{r_i}} - {\\bf\\vec{r}_{cm}}\\sum\\limits_{i = 1}^nm_i\n",
    "\\end{equation}\n",
    "where $n$ is the number of particles.\n",
    "\n",
    "Now, we equal this sum to zero and isolate ${\\bf\\vec{r_{cm}}}$:\n",
    "\n",
    "\\begin{equation}\n",
    "     \\sum\\limits_{i = 1}^nm_i{\\bf\\vec{r_i}} - {\\bf\\vec{r}_{cm}}\\sum\\limits_{i = 1}^nm_i = 0 \\longrightarrow {\\bf\\vec{r}_{cm}} = \\frac{\\sum\\limits_{i = 1}^nm_i{\\bf\\vec{r_i}}}{\\sum\\limits_{i = 1}^nm_i}  = \\frac{\\sum\\limits_{i = 1}^nm_i{\\bf\\vec{r_i}}}{m_T}\n",
    "\\end{equation}\n",
    "\n",
    "where $m_T$ is the total mass of the particles.\n",
    "\n",
    "For a rigid body, the center of mass is defined as the point where the integral of the vectors  linking this point to each differential part of mass, weighted by this differential mass, is zero. This integral is:\n",
    "\n",
    "\\begin{equation}\n",
    "    \\int\\limits_{B} {\\bf{\\vec{r}_B}} dm = \\int\\limits_{B} {\\bf{\\vec{r}}} - {\\bf{\\vec{r}_{cm}}}  dm = \\int\\limits_{B} {\\bf{\\vec{r}}}\\,dm - \\int\\limits_{B}{\\bf{\\vec{r}_{cm}}}  dm = \\int\\limits_{B} {\\bf{\\vec{r}}}\\,dm - {\\bf{\\vec{r}_{cm}}}\\int\\limits_{B}\\, dm\n",
    "\\end{equation}\n",
    "\n",
    "Now we equal this integral to zero and isolate ${\\bf\\vec{r_{cm}}}$:\n",
    "\n",
    "\\begin{equation}\n",
    "    \\int\\limits_{B} {\\bf{\\vec{r}}}\\,dm - {\\bf{\\vec{r}_{cm}}}\\int\\limits_{B}\\, dm  = 0 \\longrightarrow  {\\bf{\\vec{r}_{cm}}} = \\frac{ \\int\\limits_{B} {\\bf{\\vec{r}}}\\,dm}{\\int\\limits_{B}\\, dm}  = \\frac{ \\int\\limits_{B} {\\bf{\\vec{r}}}\\,dm}{m_B}\n",
    "\\end{equation}\n",
    "where $m_B$ is the mass of the body."
   ]
  },
  {
   "cell_type": "markdown",
   "metadata": {},
   "source": [
    "### Center of gravity\n",
    "\n",
    "Center of gravity of a body is the point where the moment caused by the gravitational force in the whole body relative to this point is zero.\n",
    "\n",
    "\\begin{equation}\n",
    "    \\vec{\\bf{M_0}} = \\int\\limits_{B}  \\vec{\\bf{r_B}}\\, \\times\\,\\vec{\\bf{g}}\\,dm \n",
    "\\end{equation}\n",
    "\n",
    "If the acceleration of gravity being applied to the whole body is the same (for all practical purposes, in Biomechanics we can consider it the same in the whole body), the gravity vector can go out of the integral:  \n",
    "\n",
    "\\begin{equation}\n",
    "  \\vec{\\bf{M_0}}= \\int\\limits_{B}\\vec{\\bf{r_B}}\\,dm\\, \\times\\,\\vec{\\bf{g}} =  \\int\\limits_{B}(\\vec{\\bf{r}} - \\vec{\\bf{r_{cm}}})\\,dm\\, \\times\\,\\vec{\\bf{g}} =  \\left(\\int\\limits_{B}\\vec{\\bf{r}}\\,dm -\\int\\limits_{B}\\vec{\\bf{r_{G}}}\\,dm\\,\\right) \\times\\,\\vec{\\bf{g}}\n",
    "\\end{equation}\n",
    "\n",
    "\n",
    "Now, we equal this moment to zero and isolate $\\vec{\\bf{r_{G}}}$:\n",
    "\n",
    "\\begin{equation}\n",
    "            \\left(\\int\\limits_{B}\\vec{\\bf{r}}\\,dm -\\int\\limits_{B}\\vec{\\bf{r_{G}}}\\,dm\\right) \\times\\,\\vec{\\bf{g}} = 0 \\longrightarrow \\int\\limits_{B}\\vec{\\bf{r}}\\,dm -\\int\\limits_{B}\\vec{\\bf{r_{G}}}\\,dm = 0 \\longrightarrow \\int\\limits_{B}\\vec{\\bf{r}}\\,dm -\\vec{\\bf{r_{G}}}\\int\\limits_{B}\\,dm = 0\\,\\,\\,\\,\\,\\, \\longrightarrow \\vec{\\bf{r_{G}}} = \\frac{ \\int\\limits_{B}\\vec{\\bf{r}}\\,dm}{\\int\\limits_{B}\\,dm} = \\frac{ \\int\\limits_{B}\\vec{\\bf{r}}\\,dm}{m_B}  \n",
    "\\end{equation}\n",
    "where $m_B$ is the mass of the body.\n",
    "\n",
    "Note that in this case, that the gravity acceleration is constant, the center of gravity $\\vec{\\bf{r_{G}}}$ is equal to the center of mass $\\vec{\\bf{r_{cm}}}$."
   ]
  },
  {
   "cell_type": "markdown",
   "metadata": {},
   "source": [
    "### Moment of inertia\n",
    "\n",
    "The moment of inertia is a measure of how the mass of the body distributes relative to a given axis passing to a given point O. If we define the versor $\\hat{\\bf{n_a}}$ as a versor in the direction of the axis, then the moment of inertia relative to the point O in the direction of the versor $\\hat{\\bf{n_a}}$ is defined as:\n",
    " \n",
    "\\begin{equation}\n",
    "    J_a = \\int\\limits_B (\\vec{\\bf{r_{/O}}} \\times \\hat{\\bf{n_a}}).(\\vec{\\bf{r_{/O}}} \\times \\hat{\\bf{n_a}})\\,dm   \n",
    "    \\label{eq:inmomgen}\n",
    "\\end{equation}\n",
    "\n",
    "For planar movements, we normally compute the moment of inertia relative to the z-axis. So, the Eq.~\\eqref{eq:inmomgen} simplifies to:\n",
    "\n",
    "\\begin{equation}\n",
    "    \n",
    "\\end{equation}\n",
    "### Parallel axis theorem\n",
    "\n"
   ]
  },
  {
   "cell_type": "markdown",
   "metadata": {},
   "source": [
    "### Matrix of Inertia"
   ]
  },
  {
   "cell_type": "code",
   "execution_count": null,
   "metadata": {},
   "outputs": [],
   "source": []
  },
  {
   "cell_type": "markdown",
   "metadata": {},
   "source": [
    "### Problems\n",
    "3.2.5, 3.2.7, "
   ]
  },
  {
   "cell_type": "code",
   "execution_count": null,
   "metadata": {},
   "outputs": [],
   "source": []
  }
 ],
 "metadata": {
  "kernelspec": {
   "display_name": "Python 3",
   "language": "python",
   "name": "python3"
  },
  "language_info": {
   "codemirror_mode": {
    "name": "ipython",
    "version": 3
   },
   "file_extension": ".py",
   "mimetype": "text/x-python",
   "name": "python",
   "nbconvert_exporter": "python",
   "pygments_lexer": "ipython3",
   "version": "3.6.4"
  }
 },
 "nbformat": 4,
 "nbformat_minor": 2
}
