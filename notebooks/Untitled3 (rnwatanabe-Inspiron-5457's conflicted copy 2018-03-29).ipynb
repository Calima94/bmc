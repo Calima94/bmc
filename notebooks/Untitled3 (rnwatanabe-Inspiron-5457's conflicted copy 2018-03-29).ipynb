{
 "cells": [
  {
   "cell_type": "code",
   "execution_count": 1,
   "metadata": {},
   "outputs": [],
   "source": [
    "import sympy as sym\n",
    "sym.init_printing()"
   ]
  },
  {
   "cell_type": "code",
   "execution_count": 2,
   "metadata": {},
   "outputs": [],
   "source": [
    "# Variables\n",
    "\n",
    "l, m,  t, g = sym.symbols('l, m, t, g')"
   ]
  },
  {
   "cell_type": "code",
   "execution_count": 3,
   "metadata": {},
   "outputs": [],
   "source": [
    "theta1 = sym.Function('theta1')(t)\n",
    "theta2 = sym.Function('theta2')(t)\n",
    "rax = sym.Function('rax')(t)\n",
    "ray = sym.Function('ray')(t)"
   ]
  },
  {
   "cell_type": "code",
   "execution_count": 4,
   "metadata": {},
   "outputs": [],
   "source": [
    "I1 = m*l**2/12\n",
    "I2 = m*l**2/12"
   ]
  },
  {
   "cell_type": "code",
   "execution_count": 5,
   "metadata": {},
   "outputs": [
    {
     "data": {
      "image/png": "[encoded data removed]",
      "text/latex": [
       "$$\\left[\\begin{matrix}\\frac{l}{2} \\cos{\\left (\\theta_{1}{\\left (t \\right )} \\right )}\\\\\\frac{l}{2} \\sin{\\left (\\theta_{1}{\\left (t \\right )} \\right )}\\\\0\\end{matrix}\\right]$$"
      ],
      "text/plain": [
       "⎡l⋅cos(θ₁(t))⎤\n",
       "⎢────────────⎥\n",
       "⎢     2      ⎥\n",
       "⎢            ⎥\n",
       "⎢l⋅sin(θ₁(t))⎥\n",
       "⎢────────────⎥\n",
       "⎢     2      ⎥\n",
       "⎢            ⎥\n",
       "⎣     0      ⎦"
      ]
     },
     "execution_count": 5,
     "metadata": {},
     "output_type": "execute_result"
    }
   ],
   "source": [
    "# Kinematics\n",
    "\n",
    "rg1a= sym.Matrix([[l/2*sym.cos(theta1)],[l/2*sym.sin(theta1)],[0]])\n",
    "rg1a"
   ]
  },
  {
   "cell_type": "code",
   "execution_count": 6,
   "metadata": {},
   "outputs": [
    {
     "data": {
      "image/png": "[encoded data removed]",
      "text/latex": [
       "$$\\left[\\begin{matrix}\\frac{l}{2} \\sin{\\left (\\theta_{2}{\\left (t \\right )} \\right )} + l \\cos{\\left (\\theta_{1}{\\left (t \\right )} \\right )}\\\\\\frac{l}{2} \\sin{\\left (\\theta_{2}{\\left (t \\right )} \\right )} - \\frac{l}{2} \\cos{\\left (\\theta_{2}{\\left (t \\right )} \\right )}\\\\0\\end{matrix}\\right]$$"
      ],
      "text/plain": [
       "⎡l⋅sin(θ₂(t))               ⎤\n",
       "⎢──────────── + l⋅cos(θ₁(t))⎥\n",
       "⎢     2                     ⎥\n",
       "⎢                           ⎥\n",
       "⎢l⋅sin(θ₂(t))   l⋅cos(θ₂(t))⎥\n",
       "⎢──────────── - ────────────⎥\n",
       "⎢     2              2      ⎥\n",
       "⎢                           ⎥\n",
       "⎣             0             ⎦"
      ]
     },
     "execution_count": 6,
     "metadata": {},
     "output_type": "execute_result"
    }
   ],
   "source": [
    "rg2a= sym.Matrix([[l*sym.cos(theta1)+l/2*sym.sin(theta2)],[l/2*sym.sin(theta2)-l/2*sym.cos(theta2)],[0]])\n",
    "rg2a"
   ]
  },
  {
   "cell_type": "code",
   "execution_count": 7,
   "metadata": {},
   "outputs": [
    {
     "data": {
      "image/png": "[encoded data removed]",
      "text/latex": [
       "$$\\left[\\begin{matrix}\\frac{l}{2} \\sin{\\left (\\theta_{2}{\\left (t \\right )} \\right )}\\\\- \\frac{l}{2} \\cos{\\left (\\theta_{2}{\\left (t \\right )} \\right )}\\\\0\\end{matrix}\\right]$$"
      ],
      "text/plain": [
       "⎡ l⋅sin(θ₂(t)) ⎤\n",
       "⎢ ──────────── ⎥\n",
       "⎢      2       ⎥\n",
       "⎢              ⎥\n",
       "⎢-l⋅cos(θ₂(t)) ⎥\n",
       "⎢──────────────⎥\n",
       "⎢      2       ⎥\n",
       "⎢              ⎥\n",
       "⎣      0       ⎦"
      ]
     },
     "execution_count": 7,
     "metadata": {},
     "output_type": "execute_result"
    }
   ],
   "source": [
    "rg2b= sym.Matrix([[l/2*sym.sin(theta2)],[-l/2*sym.cos(theta2)],[0]])\n",
    "rg2b"
   ]
  },
  {
   "cell_type": "code",
   "execution_count": 8,
   "metadata": {},
   "outputs": [
    {
     "data": {
      "image/png": "[encoded data removed]",
      "text/latex": [
       "$$\\left[\\begin{matrix}- \\frac{l}{2} \\sin{\\left (\\theta_{1}{\\left (t \\right )} \\right )} \\frac{d^{2}}{d t^{2}}  \\theta_{1}{\\left (t \\right )} - \\frac{l}{2} \\cos{\\left (\\theta_{1}{\\left (t \\right )} \\right )} \\left(\\frac{d}{d t} \\theta_{1}{\\left (t \\right )}\\right)^{2} + \\frac{d^{2}}{d t^{2}}  \\operatorname{rax}{\\left (t \\right )}\\\\- \\frac{l}{2} \\sin{\\left (\\theta_{1}{\\left (t \\right )} \\right )} \\left(\\frac{d}{d t} \\theta_{1}{\\left (t \\right )}\\right)^{2} + \\frac{l}{2} \\cos{\\left (\\theta_{1}{\\left (t \\right )} \\right )} \\frac{d^{2}}{d t^{2}}  \\theta_{1}{\\left (t \\right )} + \\frac{d^{2}}{d t^{2}}  \\operatorname{ray}{\\left (t \\right )}\\\\0\\end{matrix}\\right]$$"
      ],
      "text/plain": [
       "⎡                 2                                                 ⎤\n",
       "⎢                d                                   2              ⎥\n",
       "⎢  l⋅sin(θ₁(t))⋅───(θ₁(t))                ⎛d        ⎞               ⎥\n",
       "⎢                 2          l⋅cos(θ₁(t))⋅⎜──(θ₁(t))⎟      2        ⎥\n",
       "⎢               dt                        ⎝dt       ⎠     d         ⎥\n",
       "⎢- ─────────────────────── - ───────────────────────── + ───(rax(t))⎥\n",
       "⎢             2                          2                 2        ⎥\n",
       "⎢                                                        dt         ⎥\n",
       "⎢                                                                   ⎥\n",
       "⎢                                             2                     ⎥\n",
       "⎢                          2                 d                      ⎥\n",
       "⎢               ⎛d        ⎞    l⋅cos(θ₁(t))⋅───(θ₁(t))              ⎥\n",
       "⎢  l⋅sin(θ₁(t))⋅⎜──(θ₁(t))⎟                   2            2        ⎥\n",
       "⎢               ⎝dt       ⎠                 dt            d         ⎥\n",
       "⎢- ───────────────────────── + ─────────────────────── + ───(ray(t))⎥\n",
       "⎢              2                          2                2        ⎥\n",
       "⎢                                                        dt         ⎥\n",
       "⎢                                                                   ⎥\n",
       "⎣                                 0                                 ⎦"
      ]
     },
     "execution_count": 8,
     "metadata": {},
     "output_type": "execute_result"
    }
   ],
   "source": [
    "rg1 = sym.Matrix([[rax],[ray],[0]])+rg1a\n",
    "vg1 = sym.diff(rg1, t)\n",
    "ag1 = sym.diff(vg1,t)\n",
    "ag1"
   ]
  },
  {
   "cell_type": "code",
   "execution_count": 9,
   "metadata": {},
   "outputs": [
    {
     "data": {
      "image/png": "[encoded data removed]",
      "text/latex": [
       "$$\\left[\\begin{matrix}- l \\sin{\\left (\\theta_{1}{\\left (t \\right )} \\right )} \\frac{d^{2}}{d t^{2}}  \\theta_{1}{\\left (t \\right )} - \\frac{l}{2} \\sin{\\left (\\theta_{2}{\\left (t \\right )} \\right )} \\left(\\frac{d}{d t} \\theta_{2}{\\left (t \\right )}\\right)^{2} - l \\cos{\\left (\\theta_{1}{\\left (t \\right )} \\right )} \\left(\\frac{d}{d t} \\theta_{1}{\\left (t \\right )}\\right)^{2} + \\frac{l}{2} \\cos{\\left (\\theta_{2}{\\left (t \\right )} \\right )} \\frac{d^{2}}{d t^{2}}  \\theta_{2}{\\left (t \\right )} + \\frac{d^{2}}{d t^{2}}  \\operatorname{rax}{\\left (t \\right )}\\\\- \\frac{l}{2} \\sin{\\left (\\theta_{2}{\\left (t \\right )} \\right )} \\left(\\frac{d}{d t} \\theta_{2}{\\left (t \\right )}\\right)^{2} + \\frac{l}{2} \\sin{\\left (\\theta_{2}{\\left (t \\right )} \\right )} \\frac{d^{2}}{d t^{2}}  \\theta_{2}{\\left (t \\right )} + \\frac{l}{2} \\cos{\\left (\\theta_{2}{\\left (t \\right )} \\right )} \\left(\\frac{d}{d t} \\theta_{2}{\\left (t \\right )}\\right)^{2} + \\frac{l}{2} \\cos{\\left (\\theta_{2}{\\left (t \\right )} \\right )} \\frac{d^{2}}{d t^{2}}  \\theta_{2}{\\left (t \\right )} + \\frac{d^{2}}{d t^{2}}  \\operatorname{ray}{\\left (t \\right )}\\\\0\\end{matrix}\\right]$$"
      ],
      "text/plain": [
       "⎡                                                                             \n",
       "⎢                                                    2                        \n",
       "⎢                                         ⎛d        ⎞                         \n",
       "⎢                 2          l⋅sin(θ₂(t))⋅⎜──(θ₂(t))⎟                         \n",
       "⎢                d                        ⎝dt       ⎠                 ⎛d      \n",
       "⎢- l⋅sin(θ₁(t))⋅───(θ₁(t)) - ───────────────────────── - l⋅cos(θ₁(t))⋅⎜──(θ₁(t\n",
       "⎢                 2                      2                            ⎝dt     \n",
       "⎢               dt                                                            \n",
       "⎢                                                                             \n",
       "⎢                                             2                               \n",
       "⎢                          2                 d                                \n",
       "⎢               ⎛d        ⎞    l⋅sin(θ₂(t))⋅───(θ₂(t))                ⎛d      \n",
       "⎢  l⋅sin(θ₂(t))⋅⎜──(θ₂(t))⎟                   2          l⋅cos(θ₂(t))⋅⎜──(θ₂(t\n",
       "⎢               ⎝dt       ⎠                 dt                        ⎝dt     \n",
       "⎢- ───────────────────────── + ─────────────────────── + ─────────────────────\n",
       "⎢              2                          2                          2        \n",
       "⎢                                                                             \n",
       "⎢                                                                             \n",
       "⎣                                                            0                \n",
       "\n",
       "                      2                     ⎤\n",
       "                     d                      ⎥\n",
       "       l⋅cos(θ₂(t))⋅───(θ₂(t))              ⎥\n",
       "   2                  2            2        ⎥\n",
       "  ⎞                 dt            d         ⎥\n",
       "))⎟  + ─────────────────────── + ───(rax(t))⎥\n",
       "  ⎠               2                2        ⎥\n",
       "                                 dt         ⎥\n",
       "                                            ⎥\n",
       "                      2                     ⎥\n",
       "   2                 d                      ⎥\n",
       "  ⎞    l⋅cos(θ₂(t))⋅───(θ₂(t))              ⎥\n",
       "))⎟                   2            2        ⎥\n",
       "  ⎠                 dt            d         ⎥\n",
       "──── + ─────────────────────── + ───(ray(t))⎥\n",
       "                  2                2        ⎥\n",
       "                                 dt         ⎥\n",
       "                                            ⎥\n",
       "                                            ⎦"
      ]
     },
     "execution_count": 9,
     "metadata": {},
     "output_type": "execute_result"
    }
   ],
   "source": [
    "rg2 = sym.Matrix([[rax],[ray],[0]])+rg2a\n",
    "vg2 = sym.diff(rg2, t)\n",
    "ag2 = sym.diff(vg2,t)\n",
    "ag2"
   ]
  },
  {
   "cell_type": "code",
   "execution_count": 10,
   "metadata": {},
   "outputs": [
    {
     "data": {
      "image/png": "[encoded data removed]",
      "text/latex": [
       "$$\\left[\\begin{matrix}0\\\\0\\\\- \\frac{g l}{2} m \\cos{\\left (\\theta_{1}{\\left (t \\right )} \\right )} - g m \\left(\\frac{l}{2} \\sin{\\left (\\theta_{2}{\\left (t \\right )} \\right )} + l \\cos{\\left (\\theta_{1}{\\left (t \\right )} \\right )}\\right)\\end{matrix}\\right]$$"
      ],
      "text/plain": [
       "⎡                          0                           ⎤\n",
       "⎢                                                      ⎥\n",
       "⎢                          0                           ⎥\n",
       "⎢                                                      ⎥\n",
       "⎢  g⋅l⋅m⋅cos(θ₁(t))       ⎛l⋅sin(θ₂(t))               ⎞⎥\n",
       "⎢- ──────────────── - g⋅m⋅⎜──────────── + l⋅cos(θ₁(t))⎟⎥\n",
       "⎣         2               ⎝     2                     ⎠⎦"
      ]
     },
     "execution_count": 10,
     "metadata": {},
     "output_type": "execute_result"
    }
   ],
   "source": [
    "# Moments\n",
    "\n",
    "Ma = rg1a.cross(sym.Matrix([[0],[-m*g],[0]])) + rg2a.cross(sym.Matrix([[0],[-m*g],[0]]))\n",
    "Ma"
   ]
  },
  {
   "cell_type": "code",
   "execution_count": 11,
   "metadata": {},
   "outputs": [
    {
     "data": {
      "image/png": "[encoded data removed]",
      "text/latex": [
       "$$\\left[\\begin{matrix}0\\\\0\\\\- \\frac{g l}{2} m \\sin{\\left (\\theta_{2}{\\left (t \\right )} \\right )}\\end{matrix}\\right]$$"
      ],
      "text/plain": [
       "⎡        0         ⎤\n",
       "⎢                  ⎥\n",
       "⎢        0         ⎥\n",
       "⎢                  ⎥\n",
       "⎢-g⋅l⋅m⋅sin(θ₂(t)) ⎥\n",
       "⎢──────────────────⎥\n",
       "⎣        2         ⎦"
      ]
     },
     "execution_count": 11,
     "metadata": {},
     "output_type": "execute_result"
    }
   ],
   "source": [
    "Mb = rg2b.cross(sym.Matrix([[0],[-m*g],[0]]))\n",
    "Mb"
   ]
  },
  {
   "cell_type": "code",
   "execution_count": 12,
   "metadata": {},
   "outputs": [
    {
     "data": {
      "image/png": "[encoded data removed]",
      "text/latex": [
       "$$\\left[\\begin{matrix}0\\\\0\\\\\\frac{l^{2} m}{12} \\frac{d^{2}}{d t^{2}}  \\theta_{1}{\\left (t \\right )} + \\frac{l^{2} m}{12} \\frac{d^{2}}{d t^{2}}  \\theta_{2}{\\left (t \\right )} + m \\left(\\left(\\frac{l}{2} \\sin{\\left (\\theta_{2}{\\left (t \\right )} \\right )} + l \\cos{\\left (\\theta_{1}{\\left (t \\right )} \\right )}\\right) \\left(- \\frac{l}{2} \\sin{\\left (\\theta_{2}{\\left (t \\right )} \\right )} \\left(\\frac{d}{d t} \\theta_{2}{\\left (t \\right )}\\right)^{2} + \\frac{l}{2} \\sin{\\left (\\theta_{2}{\\left (t \\right )} \\right )} \\frac{d^{2}}{d t^{2}}  \\theta_{2}{\\left (t \\right )} + \\frac{l}{2} \\cos{\\left (\\theta_{2}{\\left (t \\right )} \\right )} \\left(\\frac{d}{d t} \\theta_{2}{\\left (t \\right )}\\right)^{2} + \\frac{l}{2} \\cos{\\left (\\theta_{2}{\\left (t \\right )} \\right )} \\frac{d^{2}}{d t^{2}}  \\theta_{2}{\\left (t \\right )} + \\frac{d^{2}}{d t^{2}}  \\operatorname{ray}{\\left (t \\right )}\\right) - \\left(\\frac{l}{2} \\sin{\\left (\\theta_{2}{\\left (t \\right )} \\right )} - \\frac{l}{2} \\cos{\\left (\\theta_{2}{\\left (t \\right )} \\right )}\\right) \\left(- l \\sin{\\left (\\theta_{1}{\\left (t \\right )} \\right )} \\frac{d^{2}}{d t^{2}}  \\theta_{1}{\\left (t \\right )} - \\frac{l}{2} \\sin{\\left (\\theta_{2}{\\left (t \\right )} \\right )} \\left(\\frac{d}{d t} \\theta_{2}{\\left (t \\right )}\\right)^{2} - l \\cos{\\left (\\theta_{1}{\\left (t \\right )} \\right )} \\left(\\frac{d}{d t} \\theta_{1}{\\left (t \\right )}\\right)^{2} + \\frac{l}{2} \\cos{\\left (\\theta_{2}{\\left (t \\right )} \\right )} \\frac{d^{2}}{d t^{2}}  \\theta_{2}{\\left (t \\right )} + \\frac{d^{2}}{d t^{2}}  \\operatorname{rax}{\\left (t \\right )}\\right)\\right) + m \\left(\\frac{l}{2} \\left(- \\frac{l}{2} \\sin{\\left (\\theta_{1}{\\left (t \\right )} \\right )} \\left(\\frac{d}{d t} \\theta_{1}{\\left (t \\right )}\\right)^{2} + \\frac{l}{2} \\cos{\\left (\\theta_{1}{\\left (t \\right )} \\right )} \\frac{d^{2}}{d t^{2}}  \\theta_{1}{\\left (t \\right )} + \\frac{d^{2}}{d t^{2}}  \\operatorname{ray}{\\left (t \\right )}\\right) \\cos{\\left (\\theta_{1}{\\left (t \\right )} \\right )} - \\frac{l}{2} \\left(- \\frac{l}{2} \\sin{\\left (\\theta_{1}{\\left (t \\right )} \\right )} \\frac{d^{2}}{d t^{2}}  \\theta_{1}{\\left (t \\right )} - \\frac{l}{2} \\cos{\\left (\\theta_{1}{\\left (t \\right )} \\right )} \\left(\\frac{d}{d t} \\theta_{1}{\\left (t \\right )}\\right)^{2} + \\frac{d^{2}}{d t^{2}}  \\operatorname{rax}{\\left (t \\right )}\\right) \\sin{\\left (\\theta_{1}{\\left (t \\right )} \\right )}\\right)\\end{matrix}\\right]$$"
      ],
      "text/plain": [
       "⎡                                                                             \n",
       "⎢                                                                             \n",
       "⎢                                                                             \n",
       "⎢                                                                             \n",
       "⎢                                                                             \n",
       "⎢                                                                             \n",
       "⎢                                                                             \n",
       "⎢       2                 2            ⎛                              ⎛       \n",
       "⎢ 2    d            2    d             ⎜                              ⎜       \n",
       "⎢l ⋅m⋅───(θ₁(t))   l ⋅m⋅───(θ₂(t))     ⎜                              ⎜       \n",
       "⎢       2                 2            ⎜                              ⎜  l⋅sin\n",
       "⎢     dt                dt             ⎜⎛l⋅sin(θ₂(t))               ⎞ ⎜       \n",
       "⎢─────────────── + ─────────────── + m⋅⎜⎜──────────── + l⋅cos(θ₁(t))⎟⋅⎜- ─────\n",
       "⎢       12                12           ⎜⎝     2                     ⎠ ⎜       \n",
       "⎣                                      ⎝                              ⎝       \n",
       "\n",
       "                                                                              \n",
       "                                                                              \n",
       "                                                                              \n",
       "                                                                              \n",
       "                                                                              \n",
       "                                                                              \n",
       "                                                                              \n",
       "                                      2                                       \n",
       "                   2                 d                                   2    \n",
       "        ⎛d        ⎞    l⋅sin(θ₂(t))⋅───(θ₂(t))                ⎛d        ⎞    l\n",
       "(θ₂(t))⋅⎜──(θ₂(t))⎟                   2          l⋅cos(θ₂(t))⋅⎜──(θ₂(t))⎟     \n",
       "        ⎝dt       ⎠                 dt                        ⎝dt       ⎠     \n",
       "──────────────────── + ─────────────────────── + ───────────────────────── + ─\n",
       "       2                          2                          2                \n",
       "                                                                              \n",
       "\n",
       "                                                                              \n",
       "                                                                              \n",
       "                                                                              \n",
       "                                                                              \n",
       "                                                                              \n",
       "                                                                              \n",
       "                                                                              \n",
       "              2                     ⎞                                 ⎛       \n",
       "             d                      ⎟                                 ⎜       \n",
       "⋅cos(θ₂(t))⋅───(θ₂(t))              ⎟                                 ⎜       \n",
       "              2            2        ⎟                                 ⎜       \n",
       "            dt            d         ⎟   ⎛l⋅sin(θ₂(t))   l⋅cos(θ₂(t))⎞ ⎜       \n",
       "────────────────────── + ───(ray(t))⎟ - ⎜──────────── - ────────────⎟⋅⎜- l⋅sin\n",
       "          2                2        ⎟   ⎝     2              2      ⎠ ⎜       \n",
       "                         dt         ⎠                                 ⎝       \n",
       "\n",
       "                            0                                                 \n",
       "                                                                              \n",
       "                            0                                                 \n",
       "                                                                              \n",
       "                                                                              \n",
       "                                                                              \n",
       "                                                                              \n",
       "                                                                              \n",
       "                                             2                                \n",
       "                                  ⎛d        ⎞                                l\n",
       "          2          l⋅sin(θ₂(t))⋅⎜──(θ₂(t))⎟                            2    \n",
       "         d                        ⎝dt       ⎠                 ⎛d        ⎞     \n",
       "(θ₁(t))⋅───(θ₁(t)) - ───────────────────────── - l⋅cos(θ₁(t))⋅⎜──(θ₁(t))⎟  + ─\n",
       "          2                      2                            ⎝dt       ⎠     \n",
       "        dt                                                                    \n",
       "\n",
       "                                                                              \n",
       "                                                                              \n",
       "                                                                              \n",
       "                                                                              \n",
       "                                           ⎛  ⎛                               \n",
       "                                           ⎜  ⎜                          2    \n",
       "                                           ⎜  ⎜               ⎛d        ⎞    l\n",
       "              2                     ⎞⎞     ⎜  ⎜  l⋅sin(θ₁(t))⋅⎜──(θ₁(t))⎟     \n",
       "             d                      ⎟⎟     ⎜  ⎜               ⎝dt       ⎠     \n",
       "⋅cos(θ₂(t))⋅───(θ₂(t))              ⎟⎟     ⎜l⋅⎜- ───────────────────────── + ─\n",
       "              2            2        ⎟⎟     ⎜  ⎜              2                \n",
       "            dt            d         ⎟⎟     ⎜  ⎝                               \n",
       "────────────────────── + ───(rax(t))⎟⎟ + m⋅⎜──────────────────────────────────\n",
       "          2                2        ⎟⎟     ⎝                                  \n",
       "                         dt         ⎠⎠                                        \n",
       "\n",
       "                                                                              \n",
       "                                                                              \n",
       "                                                                              \n",
       "                                                                              \n",
       "              2                     ⎞                ⎛                 2      \n",
       "             d                      ⎟                ⎜                d       \n",
       "⋅cos(θ₁(t))⋅───(θ₁(t))              ⎟                ⎜  l⋅sin(θ₁(t))⋅───(θ₁(t)\n",
       "              2            2        ⎟                ⎜                 2      \n",
       "            dt            d         ⎟                ⎜               dt       \n",
       "────────────────────── + ───(ray(t))⎟⋅cos(θ₁(t))   l⋅⎜- ──────────────────────\n",
       "          2                2        ⎟                ⎜             2          \n",
       "                         dt         ⎠                ⎝                        \n",
       "──────────────────────────────────────────────── - ───────────────────────────\n",
       "      2                                                                       \n",
       "                                                                              \n",
       "\n",
       "                                                        ⎤\n",
       "                                                        ⎥\n",
       "                                                        ⎥\n",
       "                                                        ⎥\n",
       "                                           ⎞           ⎞⎥\n",
       "                            2              ⎟           ⎟⎥\n",
       ")                ⎛d        ⎞               ⎟           ⎟⎥\n",
       "    l⋅cos(θ₁(t))⋅⎜──(θ₁(t))⎟      2        ⎟           ⎟⎥\n",
       "                 ⎝dt       ⎠     d         ⎟           ⎟⎥\n",
       "─ - ───────────────────────── + ───(rax(t))⎟⋅sin(θ₁(t))⎟⎥\n",
       "                2                 2        ⎟           ⎟⎥\n",
       "                                dt         ⎠           ⎟⎥\n",
       "───────────────────────────────────────────────────────⎟⎥\n",
       "             2                                         ⎠⎥\n",
       "                                                        ⎦"
      ]
     },
     "execution_count": 12,
     "metadata": {},
     "output_type": "execute_result"
    }
   ],
   "source": [
    "dHadt =  m*rg1a.cross(ag1)+m*rg2a.cross(ag2) + sym.Matrix([[0],[0],[I1*sym.diff(sym.diff(theta1,t),t)]]) + sym.Matrix([[0],[0],[I2*sym.diff(sym.diff(theta2,t),t)]])                                                                                                                 \n",
    "dHadt"
   ]
  },
  {
   "cell_type": "code",
   "execution_count": 13,
   "metadata": {},
   "outputs": [
    {
     "data": {
      "image/png": "[encoded data removed]",
      "text/latex": [
       "$$\\left[\\begin{matrix}0\\\\0\\\\\\frac{l^{2} m}{12} \\frac{d^{2}}{d t^{2}}  \\theta_{2}{\\left (t \\right )} + m \\left(\\frac{l}{2} \\left(- l \\sin{\\left (\\theta_{1}{\\left (t \\right )} \\right )} \\frac{d^{2}}{d t^{2}}  \\theta_{1}{\\left (t \\right )} - \\frac{l}{2} \\sin{\\left (\\theta_{2}{\\left (t \\right )} \\right )} \\left(\\frac{d}{d t} \\theta_{2}{\\left (t \\right )}\\right)^{2} - l \\cos{\\left (\\theta_{1}{\\left (t \\right )} \\right )} \\left(\\frac{d}{d t} \\theta_{1}{\\left (t \\right )}\\right)^{2} + \\frac{l}{2} \\cos{\\left (\\theta_{2}{\\left (t \\right )} \\right )} \\frac{d^{2}}{d t^{2}}  \\theta_{2}{\\left (t \\right )} + \\frac{d^{2}}{d t^{2}}  \\operatorname{rax}{\\left (t \\right )}\\right) \\cos{\\left (\\theta_{2}{\\left (t \\right )} \\right )} + \\frac{l}{2} \\left(- \\frac{l}{2} \\sin{\\left (\\theta_{2}{\\left (t \\right )} \\right )} \\left(\\frac{d}{d t} \\theta_{2}{\\left (t \\right )}\\right)^{2} + \\frac{l}{2} \\sin{\\left (\\theta_{2}{\\left (t \\right )} \\right )} \\frac{d^{2}}{d t^{2}}  \\theta_{2}{\\left (t \\right )} + \\frac{l}{2} \\cos{\\left (\\theta_{2}{\\left (t \\right )} \\right )} \\left(\\frac{d}{d t} \\theta_{2}{\\left (t \\right )}\\right)^{2} + \\frac{l}{2} \\cos{\\left (\\theta_{2}{\\left (t \\right )} \\right )} \\frac{d^{2}}{d t^{2}}  \\theta_{2}{\\left (t \\right )} + \\frac{d^{2}}{d t^{2}}  \\operatorname{ray}{\\left (t \\right )}\\right) \\sin{\\left (\\theta_{2}{\\left (t \\right )} \\right )}\\right)\\end{matrix}\\right]$$"
      ],
      "text/plain": [
       "⎡                                                                             \n",
       "⎢                                                                             \n",
       "⎢                                                                             \n",
       "⎢                                                                             \n",
       "⎢                    ⎛  ⎛                                                     \n",
       "⎢                    ⎜  ⎜                                                    2\n",
       "⎢                    ⎜  ⎜                                         ⎛d        ⎞ \n",
       "⎢       2            ⎜  ⎜                 2          l⋅sin(θ₂(t))⋅⎜──(θ₂(t))⎟ \n",
       "⎢ 2    d             ⎜  ⎜                d                        ⎝dt       ⎠ \n",
       "⎢l ⋅m⋅───(θ₂(t))     ⎜l⋅⎜- l⋅sin(θ₁(t))⋅───(θ₁(t)) - ─────────────────────────\n",
       "⎢       2            ⎜  ⎜                 2                      2            \n",
       "⎢     dt             ⎜  ⎝               dt                                    \n",
       "⎢─────────────── + m⋅⎜────────────────────────────────────────────────────────\n",
       "⎣       12           ⎝                                                        \n",
       "\n",
       "                                                                       0      \n",
       "                                                                              \n",
       "                                                                       0      \n",
       "                                                                              \n",
       "                                              2                     ⎞         \n",
       "                                             d                      ⎟         \n",
       "                               l⋅cos(θ₂(t))⋅───(θ₂(t))              ⎟         \n",
       "                           2                  2            2        ⎟         \n",
       "                ⎛d        ⎞                 dt            d         ⎟         \n",
       " - l⋅cos(θ₁(t))⋅⎜──(θ₁(t))⎟  + ─────────────────────── + ───(rax(t))⎟⋅cos(θ₂(t\n",
       "                ⎝dt       ⎠               2                2        ⎟         \n",
       "                                                         dt         ⎠         \n",
       "──────────────────────────────────────────────────────────────────────────────\n",
       "           2                                                                  \n",
       "\n",
       "                                                                              \n",
       "                                                                              \n",
       "                                                                              \n",
       "                                                                              \n",
       "       ⎛                                             2                        \n",
       "       ⎜                          2                 d                         \n",
       "       ⎜               ⎛d        ⎞    l⋅sin(θ₂(t))⋅───(θ₂(t))                ⎛\n",
       "       ⎜  l⋅sin(θ₂(t))⋅⎜──(θ₂(t))⎟                   2          l⋅cos(θ₂(t))⋅⎜\n",
       "       ⎜               ⎝dt       ⎠                 dt                        ⎝\n",
       "))   l⋅⎜- ───────────────────────── + ─────────────────────── + ──────────────\n",
       "       ⎜              2                          2                          2 \n",
       "       ⎝                                                                      \n",
       "── + ─────────────────────────────────────────────────────────────────────────\n",
       "                                                                        2     \n",
       "\n",
       "                                                                ⎤\n",
       "                                                                ⎥\n",
       "                                                                ⎥\n",
       "                                                                ⎥\n",
       "                             2                     ⎞           ⎞⎥\n",
       "          2                 d                      ⎟           ⎟⎥\n",
       "d        ⎞    l⋅cos(θ₂(t))⋅───(θ₂(t))              ⎟           ⎟⎥\n",
       "──(θ₂(t))⎟                   2            2        ⎟           ⎟⎥\n",
       "dt       ⎠                 dt            d         ⎟           ⎟⎥\n",
       "─────────── + ─────────────────────── + ───(ray(t))⎟⋅sin(θ₂(t))⎟⎥\n",
       "                         2                2        ⎟           ⎟⎥\n",
       "                                        dt         ⎠           ⎟⎥\n",
       "───────────────────────────────────────────────────────────────⎟⎥\n",
       "                                                               ⎠⎦"
      ]
     },
     "execution_count": 13,
     "metadata": {},
     "output_type": "execute_result"
    }
   ],
   "source": [
    "dHbdt =  m*rg2b.cross(ag2) +sym.Matrix([[0],[0],[I2*sym.diff(sym.diff(theta2,t),t)]])                                                                                                                 \n",
    "dHbdt"
   ]
  },
  {
   "cell_type": "code",
   "execution_count": 14,
   "metadata": {},
   "outputs": [
    {
     "data": {
      "image/png": "[encoded data removed]",
      "text/latex": [
       "$$\\left [ \\frac{3}{l \\left(\\frac{3}{2} \\sin{\\left (2 \\theta_{2}{\\left (t \\right )} \\right )} + 4\\right)} \\left(- 2 g \\sin{\\left (\\theta_{2}{\\left (t \\right )} \\right )} + 2 l \\sin{\\left (\\theta_{1}{\\left (t \\right )} \\right )} \\cos{\\left (\\theta_{2}{\\left (t \\right )} \\right )} \\frac{d^{2}}{d t^{2}}  \\theta_{1}{\\left (t \\right )} + l \\sin^{2}{\\left (\\theta_{2}{\\left (t \\right )} \\right )} \\left(\\frac{d}{d t} \\theta_{2}{\\left (t \\right )}\\right)^{2} + 2 l \\cos{\\left (\\theta_{1}{\\left (t \\right )} \\right )} \\cos{\\left (\\theta_{2}{\\left (t \\right )} \\right )} \\left(\\frac{d}{d t} \\theta_{1}{\\left (t \\right )}\\right)^{2}\\right)\\right ]$$"
      ],
      "text/plain": [
       "⎡  ⎛                                              2                           \n",
       "⎢  ⎜                                             d                2        ⎛d \n",
       "⎢3⋅⎜-2⋅g⋅sin(θ₂(t)) + 2⋅l⋅sin(θ₁(t))⋅cos(θ₂(t))⋅───(θ₁(t)) + l⋅sin (θ₂(t))⋅⎜──\n",
       "⎢  ⎜                                              2                        ⎝dt\n",
       "⎢  ⎝                                            dt                            \n",
       "⎢─────────────────────────────────────────────────────────────────────────────\n",
       "⎢                                                       ⎛3⋅sin(2⋅θ₂(t))    ⎞  \n",
       "⎢                                                     l⋅⎜────────────── + 4⎟  \n",
       "⎣                                                       ⎝      2           ⎠  \n",
       "\n",
       "        2                                        2⎞⎤\n",
       "       ⎞                              ⎛d        ⎞ ⎟⎥\n",
       "(θ₂(t))⎟  + 2⋅l⋅cos(θ₁(t))⋅cos(θ₂(t))⋅⎜──(θ₁(t))⎟ ⎟⎥\n",
       "       ⎠                              ⎝dt       ⎠ ⎟⎥\n",
       "                                                  ⎠⎥\n",
       "───────────────────────────────────────────────────⎥\n",
       "                                                   ⎥\n",
       "                                                   ⎥\n",
       "                                                   ⎦"
      ]
     },
     "execution_count": 14,
     "metadata": {},
     "output_type": "execute_result"
    }
   ],
   "source": [
    "dth2dt2=(sym.solve((Mb[2]-dHbdt[2]).subs(rax.diff(t).diff(t),0).subs(ray.diff(t).diff(t),0), theta2.diff(t).diff(t)))\n",
    "dth2dt2"
   ]
  },
  {
   "cell_type": "code",
   "execution_count": 18,
   "metadata": {},
   "outputs": [
    {
     "data": {
      "image/png": "[encoded data removed]",
      "text/latex": [
       "$$\\frac{36 g \\sin{\\left (\\theta_{2}{\\left (t \\right )} \\right )} \\cos{\\left (\\theta_{1}{\\left (t \\right )} \\right )} \\cos{\\left (\\theta_{2}{\\left (t \\right )} \\right )} + 72 g \\cos{\\left (\\theta_{1}{\\left (t \\right )} \\right )} \\cos^{2}{\\left (\\theta_{2}{\\left (t \\right )} \\right )} + 72 g \\cos{\\left (\\theta_{1}{\\left (t \\right )} \\right )} - 36 g \\cos^{3}{\\left (\\theta_{2}{\\left (t \\right )} \\right )} + 36 g \\cos{\\left (\\theta_{2}{\\left (t \\right )} \\right )} + 36 l \\sin^{3}{\\left (\\theta_{2}{\\left (t \\right )} \\right )} \\cos{\\left (\\theta_{1}{\\left (t \\right )} \\right )} \\left(\\frac{d}{d t} \\theta_{1}{\\left (t \\right )}\\right)^{2} + 72 \\sqrt{2} l \\sin{\\left (\\theta_{2}{\\left (t \\right )} \\right )} \\cos{\\left (\\theta_{2}{\\left (t \\right )} + \\frac{\\pi}{4} \\right )} \\cos^{2}{\\left (\\theta_{1}{\\left (t \\right )} \\right )} \\left(\\frac{d}{d t} \\theta_{1}{\\left (t \\right )}\\right)^{2} + 12 l \\sin{\\left (\\theta_{2}{\\left (t \\right )} \\right )} \\cos{\\left (\\theta_{1}{\\left (t \\right )} \\right )} \\left(\\frac{d}{d t} \\theta_{1}{\\left (t \\right )}\\right)^{2} - 12 l \\sin{\\left (\\theta_{2}{\\left (t \\right )} \\right )} \\cos{\\left (\\theta_{1}{\\left (t \\right )} \\right )} \\left(\\frac{d}{d t} \\theta_{2}{\\left (t \\right )}\\right)^{2} + 72 l \\cos^{2}{\\left (\\theta_{1}{\\left (t \\right )} \\right )} \\left(\\frac{d}{d t} \\theta_{1}{\\left (t \\right )}\\right)^{2} - 36 l \\cos{\\left (\\theta_{1}{\\left (t \\right )} \\right )} \\cos^{3}{\\left (\\theta_{2}{\\left (t \\right )} \\right )} \\left(\\frac{d}{d t} \\theta_{1}{\\left (t \\right )}\\right)^{2} + 36 l \\cos{\\left (\\theta_{1}{\\left (t \\right )} \\right )} \\cos{\\left (\\theta_{2}{\\left (t \\right )} \\right )} \\left(\\frac{d}{d t} \\theta_{1}{\\left (t \\right )}\\right)^{2} + 48 l \\cos{\\left (\\theta_{1}{\\left (t \\right )} \\right )} \\cos{\\left (\\theta_{2}{\\left (t \\right )} \\right )} \\left(\\frac{d}{d t} \\theta_{2}{\\left (t \\right )}\\right)^{2} - 24 l \\cos^{2}{\\left (\\theta_{2}{\\left (t \\right )} \\right )} \\left(\\frac{d}{d t} \\theta_{2}{\\left (t \\right )}\\right)^{2} + 24 l \\left(\\frac{d}{d t} \\theta_{2}{\\left (t \\right )}\\right)^{2}}{l \\left(- \\frac{9}{2} \\sin{\\left (\\theta_{1}{\\left (t \\right )} - \\theta_{2}{\\left (t \\right )} \\right )} - \\frac{9}{2} \\sin{\\left (\\theta_{1}{\\left (t \\right )} + \\theta_{2}{\\left (t \\right )} \\right )} - 18 \\sin{\\left (2 \\theta_{1}{\\left (t \\right )} \\right )} - 12 \\sin{\\left (2 \\theta_{2}{\\left (t \\right )} \\right )} - \\frac{39}{2} \\cos{\\left (\\theta_{1}{\\left (t \\right )} - \\theta_{2}{\\left (t \\right )} \\right )} + \\frac{39}{2} \\cos{\\left (\\theta_{1}{\\left (t \\right )} + \\theta_{2}{\\left (t \\right )} \\right )} - 9 \\sqrt{2} \\cos{\\left (- 2 \\theta_{1}{\\left (t \\right )} + 2 \\theta_{2}{\\left (t \\right )} + \\frac{\\pi}{4} \\right )} + \\frac{9 \\sqrt{2}}{2} \\cos{\\left (- \\theta_{1}{\\left (t \\right )} + 3 \\theta_{2}{\\left (t \\right )} + \\frac{\\pi}{4} \\right )} - \\frac{9 \\sqrt{2}}{2} \\cos{\\left (\\theta_{1}{\\left (t \\right )} + 3 \\theta_{2}{\\left (t \\right )} + \\frac{\\pi}{4} \\right )} + 9 \\sqrt{2} \\cos{\\left (2 \\theta_{1}{\\left (t \\right )} + 2 \\theta_{2}{\\left (t \\right )} + \\frac{\\pi}{4} \\right )} - 32\\right)}$$"
      ],
      "text/plain": [
       "                                                                              \n",
       "                                                           2                  \n",
       "36⋅g⋅sin(θ₂(t))⋅cos(θ₁(t))⋅cos(θ₂(t)) + 72⋅g⋅cos(θ₁(t))⋅cos (θ₂(t)) + 72⋅g⋅cos\n",
       "                                                                              \n",
       "──────────────────────────────────────────────────────────────────────────────\n",
       "                                                                              \n",
       "                                                                              \n",
       "                                                                              \n",
       "                                                                              \n",
       "                                                                              \n",
       "\n",
       "                                                                              \n",
       "                  3                                    3                   ⎛d \n",
       "(θ₁(t)) - 36⋅g⋅cos (θ₂(t)) + 36⋅g⋅cos(θ₂(t)) + 36⋅l⋅sin (θ₂(t))⋅cos(θ₁(t))⋅⎜──\n",
       "                                                                           ⎝dt\n",
       "──────────────────────────────────────────────────────────────────────────────\n",
       "                                                 ⎛                            \n",
       "                                                 ⎜                            \n",
       "                                                 ⎜  9⋅sin(θ₁(t) - θ₂(t))   9⋅s\n",
       "                                               l⋅⎜- ──────────────────── - ───\n",
       "                                                 ⎝           2                \n",
       "\n",
       "        2                                                            2        \n",
       "       ⎞                          ⎛        π⎞    2        ⎛d        ⎞         \n",
       "(θ₁(t))⎟  + 72⋅√2⋅l⋅sin(θ₂(t))⋅cos⎜θ₂(t) + ─⎟⋅cos (θ₁(t))⋅⎜──(θ₁(t))⎟  + 12⋅l⋅\n",
       "       ⎠                          ⎝        4⎠             ⎝dt       ⎠         \n",
       "──────────────────────────────────────────────────────────────────────────────\n",
       "                                                                              \n",
       "                                                                              \n",
       "in(θ₁(t) + θ₂(t))                                       39⋅cos(θ₁(t) - θ₂(t)) \n",
       "───────────────── - 18⋅sin(2⋅θ₁(t)) - 12⋅sin(2⋅θ₂(t)) - ───────────────────── \n",
       "      2                                                           2           \n",
       "\n",
       "                                 2                                         2  \n",
       "                      ⎛d        ⎞                               ⎛d        ⎞   \n",
       "sin(θ₂(t))⋅cos(θ₁(t))⋅⎜──(θ₁(t))⎟  - 12⋅l⋅sin(θ₂(t))⋅cos(θ₁(t))⋅⎜──(θ₂(t))⎟  +\n",
       "                      ⎝dt       ⎠                               ⎝dt       ⎠   \n",
       "──────────────────────────────────────────────────────────────────────────────\n",
       "                                                                     ⎛        \n",
       "                                                             9⋅√2⋅cos⎜-θ₁(t) +\n",
       "  39⋅cos(θ₁(t) + θ₂(t))           ⎛                     π⎞           ⎝        \n",
       "+ ───────────────────── - 9⋅√2⋅cos⎜-2⋅θ₁(t) + 2⋅θ₂(t) + ─⎟ + ─────────────────\n",
       "            2                     ⎝                     4⎠                 2  \n",
       "\n",
       "                             2                                          2     \n",
       "         2        ⎛d        ⎞                       3        ⎛d        ⎞      \n",
       " 72⋅l⋅cos (θ₁(t))⋅⎜──(θ₁(t))⎟  - 36⋅l⋅cos(θ₁(t))⋅cos (θ₂(t))⋅⎜──(θ₁(t))⎟  + 36\n",
       "                  ⎝dt       ⎠                                ⎝dt       ⎠      \n",
       "──────────────────────────────────────────────────────────────────────────────\n",
       "           π⎞           ⎛                  π⎞                                 \n",
       " 3⋅θ₂(t) + ─⎟   9⋅√2⋅cos⎜θ₁(t) + 3⋅θ₂(t) + ─⎟                                 \n",
       "           4⎠           ⎝                  4⎠           ⎛                    π\n",
       "───────────── - ───────────────────────────── + 9⋅√2⋅cos⎜2⋅θ₁(t) + 2⋅θ₂(t) + ─\n",
       "                              2                         ⎝                    4\n",
       "\n",
       "                                    2                                         \n",
       "                         ⎛d        ⎞                               ⎛d        ⎞\n",
       "⋅l⋅cos(θ₁(t))⋅cos(θ₂(t))⋅⎜──(θ₁(t))⎟  + 48⋅l⋅cos(θ₁(t))⋅cos(θ₂(t))⋅⎜──(θ₂(t))⎟\n",
       "                         ⎝dt       ⎠                               ⎝dt       ⎠\n",
       "──────────────────────────────────────────────────────────────────────────────\n",
       "      ⎞                                                                       \n",
       "      ⎟                                                                       \n",
       "⎞     ⎟                                                                       \n",
       "⎟ - 32⎟                                                                       \n",
       "⎠     ⎠                                                                       \n",
       "\n",
       "2                               2                   2\n",
       "            2        ⎛d        ⎞         ⎛d        ⎞ \n",
       "  - 24⋅l⋅cos (θ₂(t))⋅⎜──(θ₂(t))⎟  + 24⋅l⋅⎜──(θ₂(t))⎟ \n",
       "                     ⎝dt       ⎠         ⎝dt       ⎠ \n",
       "─────────────────────────────────────────────────────\n",
       "                                                     \n",
       "                                                     \n",
       "                                                     \n",
       "                                                     \n",
       "                                                     "
      ]
     },
     "execution_count": 18,
     "metadata": {},
     "output_type": "execute_result"
    }
   ],
   "source": [
    "dth1dt2=(sym.solve((Ma[2]-dHadt[2]).subs(rax.diff(t).diff(t),0).subs(ray.diff(t).diff(t),0).subs(theta2.diff(t).diff(t),dth2dt2[0]), theta1.diff(t).diff(t)))\n",
    "dth1dt2[0]"
   ]
  },
  {
   "cell_type": "code",
   "execution_count": 17,
   "metadata": {},
   "outputs": [
    {
     "data": {
      "image/png": "[encoded data removed]",
      "text/latex": [
       "$$\\frac{3}{l \\left(\\frac{3}{2} \\sin{\\left (2 \\theta_{2}{\\left (t \\right )} \\right )} + 4\\right)} \\left(- 2 g \\sin{\\left (\\theta_{2}{\\left (t \\right )} \\right )} + l \\sin^{2}{\\left (\\theta_{2}{\\left (t \\right )} \\right )} \\left(\\frac{d}{d t} \\theta_{2}{\\left (t \\right )}\\right)^{2} + 2 l \\cos{\\left (\\theta_{1}{\\left (t \\right )} \\right )} \\cos{\\left (\\theta_{2}{\\left (t \\right )} \\right )} \\left(\\frac{d}{d t} \\theta_{1}{\\left (t \\right )}\\right)^{2} + \\frac{2 \\left(36 g \\sin{\\left (\\theta_{2}{\\left (t \\right )} \\right )} \\cos{\\left (\\theta_{1}{\\left (t \\right )} \\right )} \\cos{\\left (\\theta_{2}{\\left (t \\right )} \\right )} + 72 g \\cos{\\left (\\theta_{1}{\\left (t \\right )} \\right )} \\cos^{2}{\\left (\\theta_{2}{\\left (t \\right )} \\right )} + 72 g \\cos{\\left (\\theta_{1}{\\left (t \\right )} \\right )} - 36 g \\cos^{3}{\\left (\\theta_{2}{\\left (t \\right )} \\right )} + 36 g \\cos{\\left (\\theta_{2}{\\left (t \\right )} \\right )} + 36 l \\sin^{3}{\\left (\\theta_{2}{\\left (t \\right )} \\right )} \\cos{\\left (\\theta_{1}{\\left (t \\right )} \\right )} \\left(\\frac{d}{d t} \\theta_{1}{\\left (t \\right )}\\right)^{2} + 72 \\sqrt{2} l \\sin{\\left (\\theta_{2}{\\left (t \\right )} \\right )} \\cos{\\left (\\theta_{2}{\\left (t \\right )} + \\frac{\\pi}{4} \\right )} \\cos^{2}{\\left (\\theta_{1}{\\left (t \\right )} \\right )} \\left(\\frac{d}{d t} \\theta_{1}{\\left (t \\right )}\\right)^{2} + 12 l \\sin{\\left (\\theta_{2}{\\left (t \\right )} \\right )} \\cos{\\left (\\theta_{1}{\\left (t \\right )} \\right )} \\left(\\frac{d}{d t} \\theta_{1}{\\left (t \\right )}\\right)^{2} - 12 l \\sin{\\left (\\theta_{2}{\\left (t \\right )} \\right )} \\cos{\\left (\\theta_{1}{\\left (t \\right )} \\right )} \\left(\\frac{d}{d t} \\theta_{2}{\\left (t \\right )}\\right)^{2} + 72 l \\cos^{2}{\\left (\\theta_{1}{\\left (t \\right )} \\right )} \\left(\\frac{d}{d t} \\theta_{1}{\\left (t \\right )}\\right)^{2} - 36 l \\cos{\\left (\\theta_{1}{\\left (t \\right )} \\right )} \\cos^{3}{\\left (\\theta_{2}{\\left (t \\right )} \\right )} \\left(\\frac{d}{d t} \\theta_{1}{\\left (t \\right )}\\right)^{2} + 36 l \\cos{\\left (\\theta_{1}{\\left (t \\right )} \\right )} \\cos{\\left (\\theta_{2}{\\left (t \\right )} \\right )} \\left(\\frac{d}{d t} \\theta_{1}{\\left (t \\right )}\\right)^{2} + 48 l \\cos{\\left (\\theta_{1}{\\left (t \\right )} \\right )} \\cos{\\left (\\theta_{2}{\\left (t \\right )} \\right )} \\left(\\frac{d}{d t} \\theta_{2}{\\left (t \\right )}\\right)^{2} - 24 l \\cos^{2}{\\left (\\theta_{2}{\\left (t \\right )} \\right )} \\left(\\frac{d}{d t} \\theta_{2}{\\left (t \\right )}\\right)^{2} + 24 l \\left(\\frac{d}{d t} \\theta_{2}{\\left (t \\right )}\\right)^{2}\\right) \\sin{\\left (\\theta_{1}{\\left (t \\right )} \\right )} \\cos{\\left (\\theta_{2}{\\left (t \\right )} \\right )}}{- \\frac{9}{2} \\sin{\\left (\\theta_{1}{\\left (t \\right )} - \\theta_{2}{\\left (t \\right )} \\right )} - \\frac{9}{2} \\sin{\\left (\\theta_{1}{\\left (t \\right )} + \\theta_{2}{\\left (t \\right )} \\right )} - 18 \\sin{\\left (2 \\theta_{1}{\\left (t \\right )} \\right )} - 12 \\sin{\\left (2 \\theta_{2}{\\left (t \\right )} \\right )} - \\frac{39}{2} \\cos{\\left (\\theta_{1}{\\left (t \\right )} - \\theta_{2}{\\left (t \\right )} \\right )} + \\frac{39}{2} \\cos{\\left (\\theta_{1}{\\left (t \\right )} + \\theta_{2}{\\left (t \\right )} \\right )} - 9 \\sqrt{2} \\cos{\\left (- 2 \\theta_{1}{\\left (t \\right )} + 2 \\theta_{2}{\\left (t \\right )} + \\frac{\\pi}{4} \\right )} + \\frac{9 \\sqrt{2}}{2} \\cos{\\left (- \\theta_{1}{\\left (t \\right )} + 3 \\theta_{2}{\\left (t \\right )} + \\frac{\\pi}{4} \\right )} - \\frac{9 \\sqrt{2}}{2} \\cos{\\left (\\theta_{1}{\\left (t \\right )} + 3 \\theta_{2}{\\left (t \\right )} + \\frac{\\pi}{4} \\right )} + 9 \\sqrt{2} \\cos{\\left (2 \\theta_{1}{\\left (t \\right )} + 2 \\theta_{2}{\\left (t \\right )} + \\frac{\\pi}{4} \\right )} - 32}\\right)$$"
      ],
      "text/plain": [
       "  ⎛                                                                           \n",
       "  ⎜                                                                           \n",
       "  ⎜                                           2                               \n",
       "  ⎜                       2        ⎛d        ⎞                              ⎛d\n",
       "3⋅⎜-2⋅g⋅sin(θ₂(t)) + l⋅sin (θ₂(t))⋅⎜──(θ₂(t))⎟  + 2⋅l⋅cos(θ₁(t))⋅cos(θ₂(t))⋅⎜─\n",
       "  ⎜                                ⎝dt       ⎠                              ⎝d\n",
       "  ⎜                                                                           \n",
       "  ⎜                                                                           \n",
       "  ⎜                                                                           \n",
       "  ⎝                                                                           \n",
       "──────────────────────────────────────────────────────────────────────────────\n",
       "                                                                              \n",
       "                                                                              \n",
       "                                                                              \n",
       "\n",
       "               ⎛                                                              \n",
       "               ⎜                                                           2  \n",
       "         2   2⋅⎜36⋅g⋅sin(θ₂(t))⋅cos(θ₁(t))⋅cos(θ₂(t)) + 72⋅g⋅cos(θ₁(t))⋅cos (θ\n",
       "        ⎞      ⎝                                                              \n",
       "─(θ₁(t))⎟  + ─────────────────────────────────────────────────────────────────\n",
       "t       ⎠                                                                     \n",
       "                                                                              \n",
       "                                                                              \n",
       "                                                                              \n",
       "                                                                              \n",
       "──────────────────────────────────────────────────────────────────────────────\n",
       "                                                                              \n",
       "                                                                              \n",
       "                                                                              \n",
       "\n",
       "                                                                              \n",
       "                                  3                                    3      \n",
       "₂(t)) + 72⋅g⋅cos(θ₁(t)) - 36⋅g⋅cos (θ₂(t)) + 36⋅g⋅cos(θ₂(t)) + 36⋅l⋅sin (θ₂(t)\n",
       "                                                                              \n",
       "──────────────────────────────────────────────────────────────────────────────\n",
       "                                                                              \n",
       "                                                                              \n",
       "                                                                             9\n",
       "                                                                           - ─\n",
       "                                                                              \n",
       "──────────────────────────────────────────────────────────────────────────────\n",
       "                                                                              \n",
       "                                                                              \n",
       "                                                                              \n",
       "\n",
       "                        2                                                     \n",
       "             ⎛d        ⎞                          ⎛        π⎞    2        ⎛d  \n",
       ")⋅cos(θ₁(t))⋅⎜──(θ₁(t))⎟  + 72⋅√2⋅l⋅sin(θ₂(t))⋅cos⎜θ₂(t) + ─⎟⋅cos (θ₁(t))⋅⎜──(\n",
       "             ⎝dt       ⎠                          ⎝        4⎠             ⎝dt \n",
       "──────────────────────────────────────────────────────────────────────────────\n",
       "                                                                              \n",
       "                                                                              \n",
       "⋅sin(θ₁(t) - θ₂(t))   9⋅sin(θ₁(t) + θ₂(t))                                    \n",
       "─────────────────── - ──────────────────── - 18⋅sin(2⋅θ₁(t)) - 12⋅sin(2⋅θ₂(t))\n",
       "        2                      2                                              \n",
       "──────────────────────────────────────────────────────────────────────────────\n",
       "                                                                             ⎛\n",
       "                                                                           l⋅⎜\n",
       "                                                                             ⎝\n",
       "\n",
       "       2                                         2                            \n",
       "      ⎞                               ⎛d        ⎞                             \n",
       "θ₁(t))⎟  + 12⋅l⋅sin(θ₂(t))⋅cos(θ₁(t))⋅⎜──(θ₁(t))⎟  - 12⋅l⋅sin(θ₂(t))⋅cos(θ₁(t)\n",
       "      ⎠                               ⎝dt       ⎠                             \n",
       "──────────────────────────────────────────────────────────────────────────────\n",
       "                                                                              \n",
       "                                                                              \n",
       "   39⋅cos(θ₁(t) - θ₂(t))   39⋅cos(θ₁(t) + θ₂(t))           ⎛                  \n",
       " - ───────────────────── + ───────────────────── - 9⋅√2⋅cos⎜-2⋅θ₁(t) + 2⋅θ₂(t)\n",
       "             2                       2                     ⎝                  \n",
       "──────────────────────────────────────────────────────────────────────────────\n",
       "3⋅sin(2⋅θ₂(t))    ⎞                                                           \n",
       "────────────── + 4⎟                                                           \n",
       "      2           ⎠                                                           \n",
       "\n",
       "             2                               2                                \n",
       "  ⎛d        ⎞            2        ⎛d        ⎞                       3        ⎛\n",
       ")⋅⎜──(θ₂(t))⎟  + 72⋅l⋅cos (θ₁(t))⋅⎜──(θ₁(t))⎟  - 36⋅l⋅cos(θ₁(t))⋅cos (θ₂(t))⋅⎜\n",
       "  ⎝dt       ⎠                     ⎝dt       ⎠                                ⎝\n",
       "──────────────────────────────────────────────────────────────────────────────\n",
       "                ⎛                   π⎞           ⎛                  π⎞        \n",
       "        9⋅√2⋅cos⎜-θ₁(t) + 3⋅θ₂(t) + ─⎟   9⋅√2⋅cos⎜θ₁(t) + 3⋅θ₂(t) + ─⎟        \n",
       "   π⎞           ⎝                   4⎠           ⎝                  4⎠        \n",
       " + ─⎟ + ────────────────────────────── - ───────────────────────────── + 9⋅√2⋅\n",
       "   4⎠                 2                                2                      \n",
       "──────────────────────────────────────────────────────────────────────────────\n",
       "                                                                              \n",
       "                                                                              \n",
       "                                                                              \n",
       "\n",
       "          2                                         2                         \n",
       "d        ⎞                               ⎛d        ⎞                          \n",
       "──(θ₁(t))⎟  + 36⋅l⋅cos(θ₁(t))⋅cos(θ₂(t))⋅⎜──(θ₁(t))⎟  + 48⋅l⋅cos(θ₁(t))⋅cos(θ₂\n",
       "dt       ⎠                               ⎝dt       ⎠                          \n",
       "──────────────────────────────────────────────────────────────────────────────\n",
       "                                                                              \n",
       "                                                                              \n",
       "   ⎛                    π⎞                                                    \n",
       "cos⎜2⋅θ₁(t) + 2⋅θ₂(t) + ─⎟ - 32                                               \n",
       "   ⎝                    4⎠                                                    \n",
       "──────────────────────────────────────────────────────────────────────────────\n",
       "                                                                              \n",
       "                                                                              \n",
       "                                                                              \n",
       "\n",
       "                2                               2                   2⎞        \n",
       "     ⎛d        ⎞            2        ⎛d        ⎞         ⎛d        ⎞ ⎟        \n",
       "(t))⋅⎜──(θ₂(t))⎟  - 24⋅l⋅cos (θ₂(t))⋅⎜──(θ₂(t))⎟  + 24⋅l⋅⎜──(θ₂(t))⎟ ⎟⋅sin(θ₁(\n",
       "     ⎝dt       ⎠                     ⎝dt       ⎠         ⎝dt       ⎠ ⎠        \n",
       "──────────────────────────────────────────────────────────────────────────────\n",
       "                                                                              \n",
       "                                                                              \n",
       "                                                                              \n",
       "                                                                              \n",
       "                                                                              \n",
       "──────────────────────────────────────────────────────────────────────────────\n",
       "                                                                              \n",
       "                                                                              \n",
       "                                                                              \n",
       "\n",
       "              ⎞\n",
       "              ⎟\n",
       "t))⋅cos(θ₂(t))⎟\n",
       "              ⎟\n",
       "──────────────⎟\n",
       "              ⎟\n",
       "              ⎟\n",
       "              ⎟\n",
       "              ⎟\n",
       "              ⎠\n",
       "───────────────\n",
       "               \n",
       "               \n",
       "               "
      ]
     },
     "execution_count": 17,
     "metadata": {},
     "output_type": "execute_result"
    }
   ],
   "source": [
    "dth2dt2[0].subs(theta1.diff(t).diff(t), dth1dt2[0])"
   ]
  },
  {
   "cell_type": "code",
   "execution_count": null,
   "metadata": {},
   "outputs": [],
   "source": [
    "epsilon , theta, m, M, T"
   ]
  }
 ],
 "metadata": {
  "kernelspec": {
   "display_name": "Python 3",
   "language": "python",
   "name": "python3"
  },
  "language_info": {
   "codemirror_mode": {
    "name": "ipython",
    "version": 3
   },
   "file_extension": ".py",
   "mimetype": "text/x-python",
   "name": "python",
   "nbconvert_exporter": "python",
   "pygments_lexer": "ipython3",
   "version": "3.6.4"
  }
 },
 "nbformat": 4,
 "nbformat_minor": 2
}
